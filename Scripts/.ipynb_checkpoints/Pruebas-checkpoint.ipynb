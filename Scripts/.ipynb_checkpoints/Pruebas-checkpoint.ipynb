{
 "cells": [
  {
   "cell_type": "code",
   "execution_count": 336,
   "metadata": {},
   "outputs": [],
   "source": [
    "def recoveryFmtDateToText(pStr):\n",
    "    monthOrder = {'Jan':1, 'Feb':2, 'Mar':3, 'Apr':4, 'May':5, 'Jun':6, 'Jul':7, 'Aug':8, 'Sep':9, 'Oct':10, 'Nov':11, 'Dec':12 }\n",
    "    l = pStr.split('-')\n",
    "    return (str(monthOrder[l[1]]) + ' - ' + l[0])"
   ]
  },
  {
   "cell_type": "code",
   "execution_count": 337,
   "metadata": {},
   "outputs": [
    {
     "data": {
      "text/plain": [
       "'7 - 12'"
      ]
     },
     "execution_count": 337,
     "metadata": {},
     "output_type": "execute_result"
    }
   ],
   "source": [
    "recoveryFmtDateToText('12-Jul')"
   ]
  },
  {
   "cell_type": "code",
   "execution_count": 7,
   "metadata": {},
   "outputs": [],
   "source": [
    "def changeToCorrectStr( pStr ):\n",
    "    strErrorDict = {\"a_o\":\"ñ\", \"l_s\":\"e\", \"b_s\":\"a\", \"m_t\":\"a\"}\n",
    "    for key in strErrorDict:\n",
    "        pos = pStr.find(key)\n",
    "        if pos != -1:\n",
    "            ls = list(pStr)\n",
    "            ls[pos+1] = strErrorDict[key]\n",
    "            pStr = ''.join(str(cr) for cr in ls)\n",
    "    return pStr"
   ]
  },
  {
   "cell_type": "code",
   "execution_count": 8,
   "metadata": {},
   "outputs": [
    {
     "data": {
      "text/plain": [
       "'ingles_y_matematicas'"
      ]
     },
     "execution_count": 8,
     "metadata": {},
     "output_type": "execute_result"
    }
   ],
   "source": [
    "changeToCorrectStr('ingl_s_y_matem_ticas')"
   ]
  },
  {
   "cell_type": "code",
   "execution_count": 1,
   "metadata": {},
   "outputs": [
    {
     "data": {
      "text/plain": [
       "'/Users/franklingonzales/Documents/GeorgiaTech_DataScienceBOOTCAMP2019/PREWORK_FGC/Projects/Project2_ETL/Scripts'"
      ]
     },
     "execution_count": 1,
     "metadata": {},
     "output_type": "execute_result"
    }
   ],
   "source": [
    "pwd"
   ]
  },
  {
   "cell_type": "code",
   "execution_count": 4,
   "metadata": {},
   "outputs": [],
   "source": [
    "# Dependencies\n",
    "import numpy as np\n",
    "import pandas as pd\n",
    "import matplotlib.pyplot as plt\n",
    "import requests\n",
    "from pprint import pprint\n",
    "\n",
    "url = \"https://data.pr.gov/resource/gb92-58gc\"  #https://data.pr.gov/resource/gb92-58gc.json"
   ]
  },
  {
   "cell_type": "code",
   "execution_count": 31,
   "metadata": {},
   "outputs": [],
   "source": [
    "pr_ed_data = requests.get(url).json()\n",
    "dc_row = pr_ed_data[20]\n",
    "ThreeRows = pr_ed_data[0:10]"
   ]
  },
  {
   "cell_type": "code",
   "execution_count": 33,
   "metadata": {},
   "outputs": [
    {
     "data": {
      "text/plain": [
       "8"
      ]
     },
     "execution_count": 33,
     "metadata": {},
     "output_type": "execute_result"
    }
   ],
   "source": [
    "len(dc_row)"
   ]
  },
  {
   "cell_type": "code",
   "execution_count": 26,
   "metadata": {},
   "outputs": [
    {
     "data": {
      "text/plain": [
       "['bajo_nivel_pobreza',\n",
       " 'codigo',\n",
       " 'direccio_estado',\n",
       " 'direccio_fisica',\n",
       " 'direccion_municipio',\n",
       " 'direccion_zipcode',\n",
       " 'director',\n",
       " 'distrito',\n",
       " 'escuela',\n",
       " 'español_avanzado',\n",
       " 'español_basico',\n",
       " 'español_pre_basico',\n",
       " 'español_proficiente',\n",
       " 'español_proficiente_avanzado',\n",
       " 'estatus_actual',\n",
       " 'fax',\n",
       " 'geolocalizacion',\n",
       " 'grados_original',\n",
       " 'grados_posterior',\n",
       " 'ingles_avanzado',\n",
       " 'ingles_basico',\n",
       " 'ingles_pre_basico',\n",
       " 'ingles_proficiente',\n",
       " 'ingles_proficiente_avanzado',\n",
       " 'matematicas_avanzado',\n",
       " 'matematicas_basico',\n",
       " 'matematicas_pre_basico',\n",
       " 'matematicas_proficiente',\n",
       " 'matematicas_proficiente_avanzado',\n",
       " 'matricula_total',\n",
       " 'municipio_escolar',\n",
       " 'nivel_original',\n",
       " 'region',\n",
       " 'table_id',\n",
       " 'telefono',\n",
       " 'zona']"
      ]
     },
     "execution_count": 26,
     "metadata": {},
     "output_type": "execute_result"
    }
   ],
   "source": [
    "l_FilterHeaders = []\n",
    "for key in row.keys():\n",
    "    if key.find(\"grado_\") == -1:\n",
    "        newKey = changeToCorrectStr( key )\n",
    "        l_FilterHeaders.append(newKey)\n",
    "l_FilterHeaders"
   ]
  },
  {
   "cell_type": "code",
   "execution_count": 30,
   "metadata": {},
   "outputs": [
    {
     "data": {
      "text/plain": [
       "977"
      ]
     },
     "execution_count": 30,
     "metadata": {},
     "output_type": "execute_result"
    }
   ],
   "source": [
    "l_newJson = []\n",
    "l_LatLong = []\n",
    "for rec in pr_ed_data:\n",
    "    if len(rec) > 15:\n",
    "        dc_temp = {}\n",
    "        dc_LatLong = {}\n",
    "        for key in rec.keys():\n",
    "            newKey = changeToCorrectStr( key )\n",
    "            if newKey in l_FilterHeaders:\n",
    "                if newKey == \"geolocalizacion\":\n",
    "                    dc_LatLong[\"latitude\"] = rec[\"geolocalizacion\"][\"latitude\"]\n",
    "                    dc_LatLong[\"longitude\"] = rec[\"geolocalizacion\"][\"longitude\"] \n",
    "                    l_LatLong.append( dc_LatLong )\n",
    "                else:\n",
    "                    dc_temp[newKey]=rec[key]\n",
    "        l_newJson.append( dc_temp )\n",
    "len(l_LatLong)"
   ]
  },
  {
   "cell_type": "code",
   "execution_count": 28,
   "metadata": {},
   "outputs": [
    {
     "data": {
      "text/plain": [
       "1000"
      ]
     },
     "execution_count": 28,
     "metadata": {},
     "output_type": "execute_result"
    }
   ],
   "source": [
    "dfGen = pd.DataFrame(l_newJson)\n",
    "#dfGen\n",
    "len( l_newJson )"
   ]
  },
  {
   "cell_type": "code",
   "execution_count": 398,
   "metadata": {},
   "outputs": [
    {
     "data": {
      "text/html": [
       "<div>\n",
       "<style scoped>\n",
       "    .dataframe tbody tr th:only-of-type {\n",
       "        vertical-align: middle;\n",
       "    }\n",
       "\n",
       "    .dataframe tbody tr th {\n",
       "        vertical-align: top;\n",
       "    }\n",
       "\n",
       "    .dataframe thead th {\n",
       "        text-align: right;\n",
       "    }\n",
       "</style>\n",
       "<table border=\"1\" class=\"dataframe\">\n",
       "  <thead>\n",
       "    <tr style=\"text-align: right;\">\n",
       "      <th></th>\n",
       "      <th>latitude</th>\n",
       "      <th>longitude</th>\n",
       "    </tr>\n",
       "  </thead>\n",
       "  <tbody>\n",
       "    <tr>\n",
       "      <th>0</th>\n",
       "      <td>18.14372</td>\n",
       "      <td>-65.44178</td>\n",
       "    </tr>\n",
       "    <tr>\n",
       "      <th>1</th>\n",
       "      <td>18.05554</td>\n",
       "      <td>-66.71168</td>\n",
       "    </tr>\n",
       "    <tr>\n",
       "      <th>2</th>\n",
       "      <td>18.1174</td>\n",
       "      <td>-66.14892</td>\n",
       "    </tr>\n",
       "    <tr>\n",
       "      <th>3</th>\n",
       "      <td>18.116</td>\n",
       "      <td>-66.16099</td>\n",
       "    </tr>\n",
       "    <tr>\n",
       "      <th>4</th>\n",
       "      <td>18.36999</td>\n",
       "      <td>-66.17751</td>\n",
       "    </tr>\n",
       "    <tr>\n",
       "      <th>5</th>\n",
       "      <td>18.40972</td>\n",
       "      <td>-66.04326</td>\n",
       "    </tr>\n",
       "    <tr>\n",
       "      <th>6</th>\n",
       "      <td>18.02742</td>\n",
       "      <td>-67.16392</td>\n",
       "    </tr>\n",
       "    <tr>\n",
       "      <th>7</th>\n",
       "      <td>18.22953</td>\n",
       "      <td>-66.04733</td>\n",
       "    </tr>\n",
       "    <tr>\n",
       "      <th>8</th>\n",
       "      <td>18.22935</td>\n",
       "      <td>-66.39222</td>\n",
       "    </tr>\n",
       "    <tr>\n",
       "      <th>9</th>\n",
       "      <td>18.422</td>\n",
       "      <td>-66.07912</td>\n",
       "    </tr>\n",
       "  </tbody>\n",
       "</table>\n",
       "</div>"
      ],
      "text/plain": [
       "   latitude  longitude\n",
       "0  18.14372  -65.44178\n",
       "1  18.05554  -66.71168\n",
       "2   18.1174  -66.14892\n",
       "3    18.116  -66.16099\n",
       "4  18.36999  -66.17751\n",
       "5  18.40972  -66.04326\n",
       "6  18.02742  -67.16392\n",
       "7  18.22953  -66.04733\n",
       "8  18.22935  -66.39222\n",
       "9    18.422  -66.07912"
      ]
     },
     "execution_count": 398,
     "metadata": {},
     "output_type": "execute_result"
    }
   ],
   "source": [
    "dfLatLon = pd.DataFrame(lLatLong)\n",
    "dfLatLon"
   ]
  },
  {
   "cell_type": "code",
   "execution_count": 279,
   "metadata": {},
   "outputs": [],
   "source": [
    "dfGen = pd.DataFrame([[ row[key] for key in row.keys() ]], columns=[ key for key in row.keys() ])\n",
    "\n",
    "dfGen.insert(16,\"latitude\",[lat])\n",
    "dfGen.insert(17,\"longitude\",[lon])"
   ]
  },
  {
   "cell_type": "code",
   "execution_count": 280,
   "metadata": {},
   "outputs": [
    {
     "data": {
      "text/html": [
       "<div>\n",
       "<style scoped>\n",
       "    .dataframe tbody tr th:only-of-type {\n",
       "        vertical-align: middle;\n",
       "    }\n",
       "\n",
       "    .dataframe tbody tr th {\n",
       "        vertical-align: top;\n",
       "    }\n",
       "\n",
       "    .dataframe thead th {\n",
       "        text-align: right;\n",
       "    }\n",
       "</style>\n",
       "<table border=\"1\" class=\"dataframe\">\n",
       "  <thead>\n",
       "    <tr style=\"text-align: right;\">\n",
       "      <th></th>\n",
       "      <th>bajo_nivel_pobreza</th>\n",
       "      <th>codigo</th>\n",
       "      <th>direccio_estado</th>\n",
       "      <th>direccio_fisica</th>\n",
       "      <th>direccion_municipio</th>\n",
       "      <th>direccion_zipcode</th>\n",
       "      <th>director</th>\n",
       "      <th>distrito</th>\n",
       "      <th>escuela</th>\n",
       "      <th>espa_ol_proficiente</th>\n",
       "      <th>...</th>\n",
       "      <th>ingles_avanzado</th>\n",
       "      <th>ingles_basico</th>\n",
       "      <th>ingles_pre_basico</th>\n",
       "      <th>ingles_proficiente</th>\n",
       "      <th>ingles_proficiente_avanzado</th>\n",
       "      <th>matematicas_avanzado</th>\n",
       "      <th>matematicas_basico</th>\n",
       "      <th>matematicas_pre_basico</th>\n",
       "      <th>matematicas_proficiente</th>\n",
       "      <th>matematicas_proficiente_avanzado</th>\n",
       "    </tr>\n",
       "  </thead>\n",
       "  <tbody>\n",
       "    <tr>\n",
       "      <th>0</th>\n",
       "      <td>86.24</td>\n",
       "      <td>35295</td>\n",
       "      <td>PR</td>\n",
       "      <td>CARR ESTATAL 200 ESQ CARR ESTATAL 993</td>\n",
       "      <td>VIEQUES</td>\n",
       "      <td>00765-1554</td>\n",
       "      <td>MYRIAM R RODRIGUEZ RODRIGUEZ</td>\n",
       "      <td>FAJARDO</td>\n",
       "      <td>20 DE SEPTIEMBRE DE 1988</td>\n",
       "      <td>14.68</td>\n",
       "      <td>...</td>\n",
       "      <td>5.05</td>\n",
       "      <td>26.15</td>\n",
       "      <td>54.59</td>\n",
       "      <td>14.22</td>\n",
       "      <td>19.27</td>\n",
       "      <td>0</td>\n",
       "      <td>52.75</td>\n",
       "      <td>45.87</td>\n",
       "      <td>1.38</td>\n",
       "      <td>1.38</td>\n",
       "    </tr>\n",
       "  </tbody>\n",
       "</table>\n",
       "<p>1 rows × 41 columns</p>\n",
       "</div>"
      ],
      "text/plain": [
       "  bajo_nivel_pobreza codigo direccio_estado  \\\n",
       "0              86.24  35295              PR   \n",
       "\n",
       "                         direccio_fisica direccion_municipio  \\\n",
       "0  CARR ESTATAL 200 ESQ CARR ESTATAL 993             VIEQUES   \n",
       "\n",
       "  direccion_zipcode                      director distrito  \\\n",
       "0        00765-1554  MYRIAM R RODRIGUEZ RODRIGUEZ  FAJARDO   \n",
       "\n",
       "                    escuela espa_ol_proficiente  \\\n",
       "0  20 DE SEPTIEMBRE DE 1988               14.68   \n",
       "\n",
       "                ...                ingles_avanzado ingles_basico  \\\n",
       "0               ...                           5.05         26.15   \n",
       "\n",
       "  ingles_pre_basico ingles_proficiente ingles_proficiente_avanzado  \\\n",
       "0             54.59              14.22                       19.27   \n",
       "\n",
       "  matematicas_avanzado matematicas_basico matematicas_pre_basico  \\\n",
       "0                    0              52.75                  45.87   \n",
       "\n",
       "  matematicas_proficiente matematicas_proficiente_avanzado  \n",
       "0                    1.38                             1.38  \n",
       "\n",
       "[1 rows x 41 columns]"
      ]
     },
     "execution_count": 280,
     "metadata": {},
     "output_type": "execute_result"
    }
   ],
   "source": [
    "dfGen"
   ]
  },
  {
   "cell_type": "code",
   "execution_count": 227,
   "metadata": {},
   "outputs": [
    {
     "data": {
      "text/plain": [
       "Index(['direccio_fisica', 'direccion_municipio', 'direccion_zipcode',\n",
       "       'grado_7', 'grado_8', 'grado_sgi', 'grados_original',\n",
       "       'grados_posterior', 'ingles_avanzado', 'ingles_basico',\n",
       "       'ingles_pre_basico', 'ingles_proficiente',\n",
       "       'ingles_proficiente_avanzado', 'matematicas_avanzado',\n",
       "       'matematicas_basico', 'matematicas_pre_basico', 'latitude', 'longitude',\n",
       "       'matematicas_proficiente', 'matematicas_proficiente_avanzado',\n",
       "       'matricula_total', 'municipio_escolar', 'nivel_original', 'region',\n",
       "       'table_id', 'telefono', 'zona', 'bajo_nivel_pobreza', 'codigo',\n",
       "       'direccio_estado', 'director', 'distrito', 'escuela',\n",
       "       'español_avanzado', 'español_basico', 'español_pre_basico',\n",
       "       'español_proficiente', 'español_proficiente_avanzado', 'estatus_actual',\n",
       "       'fax', 'grado_6'],\n",
       "      dtype='object')"
      ]
     },
     "execution_count": 227,
     "metadata": {},
     "output_type": "execute_result"
    }
   ],
   "source": [
    "dfGen.columns"
   ]
  },
  {
   "cell_type": "code",
   "execution_count": null,
   "metadata": {},
   "outputs": [],
   "source": []
  },
  {
   "cell_type": "markdown",
   "metadata": {},
   "source": [
    "## Other Proofs"
   ]
  },
  {
   "cell_type": "code",
   "execution_count": 206,
   "metadata": {},
   "outputs": [],
   "source": [
    "for row in TwoRows:\n",
    "    lat = row[\"geolocalizacion\"]['latitude']\n",
    "    lon = row[\"geolocalizacion\"]['longitude']\n",
    "    del row[\"geolocalizacion\"]\n",
    "    for head in row.keys():\n",
    "        row[ changeToCorrectStr( head ) ] = row.pop(head)\n",
    "        \n",
    "    df = pd.DataFrame([[ row[key] for key in row.keys() ]], columns=[ key for key in row.keys() ])\n",
    "    df.insert(16,\"latitude\",[lat])\n",
    "    df.insert(17,\"longitude\",[lon])\n",
    "    #dfGen.append(df)\n",
    "    df"
   ]
  },
  {
   "cell_type": "code",
   "execution_count": 207,
   "metadata": {},
   "outputs": [
    {
     "data": {
      "text/html": [
       "<div>\n",
       "<style scoped>\n",
       "    .dataframe tbody tr th:only-of-type {\n",
       "        vertical-align: middle;\n",
       "    }\n",
       "\n",
       "    .dataframe tbody tr th {\n",
       "        vertical-align: top;\n",
       "    }\n",
       "\n",
       "    .dataframe thead th {\n",
       "        text-align: right;\n",
       "    }\n",
       "</style>\n",
       "<table border=\"1\" class=\"dataframe\">\n",
       "  <thead>\n",
       "    <tr style=\"text-align: right;\">\n",
       "      <th></th>\n",
       "      <th>direccio_fisica</th>\n",
       "      <th>direccion_municipio</th>\n",
       "      <th>direccion_zipcode</th>\n",
       "      <th>grado_7</th>\n",
       "      <th>grado_8</th>\n",
       "      <th>grado_sgi</th>\n",
       "      <th>grados_original</th>\n",
       "      <th>grados_posterior</th>\n",
       "      <th>ingles_avanzado</th>\n",
       "      <th>ingles_basico</th>\n",
       "      <th>...</th>\n",
       "      <th>distrito</th>\n",
       "      <th>escuela</th>\n",
       "      <th>español_avanzado</th>\n",
       "      <th>español_basico</th>\n",
       "      <th>español_pre_basico</th>\n",
       "      <th>español_proficiente</th>\n",
       "      <th>español_proficiente_avanzado</th>\n",
       "      <th>estatus_actual</th>\n",
       "      <th>fax</th>\n",
       "      <th>grado_6</th>\n",
       "    </tr>\n",
       "  </thead>\n",
       "  <tbody>\n",
       "    <tr>\n",
       "      <th>0</th>\n",
       "      <td>CARR ESTATAL 200 ESQ CARR ESTATAL 993</td>\n",
       "      <td>VIEQUES</td>\n",
       "      <td>00765-1554</td>\n",
       "      <td>71</td>\n",
       "      <td>61</td>\n",
       "      <td>12</td>\n",
       "      <td>7 - 9 , EEI</td>\n",
       "      <td>7 - 9 , EEI</td>\n",
       "      <td>5.05</td>\n",
       "      <td>26.15</td>\n",
       "      <td>...</td>\n",
       "      <td>FAJARDO</td>\n",
       "      <td>20 DE SEPTIEMBRE DE 1988</td>\n",
       "      <td>6.88</td>\n",
       "      <td>37.61</td>\n",
       "      <td>40.83</td>\n",
       "      <td>14.68</td>\n",
       "      <td>21.56</td>\n",
       "      <td>SI</td>\n",
       "      <td>876-2804</td>\n",
       "      <td>74</td>\n",
       "    </tr>\n",
       "  </tbody>\n",
       "</table>\n",
       "<p>1 rows × 41 columns</p>\n",
       "</div>"
      ],
      "text/plain": [
       "                         direccio_fisica direccion_municipio  \\\n",
       "0  CARR ESTATAL 200 ESQ CARR ESTATAL 993             VIEQUES   \n",
       "\n",
       "  direccion_zipcode grado_7 grado_8 grado_sgi grados_original  \\\n",
       "0        00765-1554      71      61        12     7 - 9 , EEI   \n",
       "\n",
       "  grados_posterior ingles_avanzado ingles_basico   ...   distrito  \\\n",
       "0      7 - 9 , EEI            5.05         26.15   ...    FAJARDO   \n",
       "\n",
       "                    escuela español_avanzado español_basico  \\\n",
       "0  20 DE SEPTIEMBRE DE 1988             6.88          37.61   \n",
       "\n",
       "  español_pre_basico español_proficiente español_proficiente_avanzado  \\\n",
       "0              40.83               14.68                        21.56   \n",
       "\n",
       "  estatus_actual       fax grado_6  \n",
       "0             SI  876-2804      74  \n",
       "\n",
       "[1 rows x 41 columns]"
      ]
     },
     "execution_count": 207,
     "metadata": {},
     "output_type": "execute_result"
    }
   ],
   "source": [
    "dfGen"
   ]
  },
  {
   "cell_type": "code",
   "execution_count": 183,
   "metadata": {},
   "outputs": [],
   "source": [
    "df.to_csv('df.csv')"
   ]
  },
  {
   "cell_type": "markdown",
   "metadata": {},
   "source": [
    "## Borrame"
   ]
  },
  {
   "cell_type": "code",
   "execution_count": 327,
   "metadata": {},
   "outputs": [],
   "source": [
    "dict1 = {'A':1, 'B':2, 'C':3, 'D':4, 'E':7 }\n",
    "dict2 = {'A':4, 'B':2, 'C':1, 'D':3, 'E':5 }\n",
    "dict3 = {'A':7, 'B':1, 'D':2, 'E':9 }\n",
    "dict4 = {'A':8, 'B':7, 'L':6, 'F':9, 'E':1 }\n",
    "dict5 = {'A':4, 'B':2, 'E':5 }"
   ]
  },
  {
   "cell_type": "code",
   "execution_count": 328,
   "metadata": {},
   "outputs": [],
   "source": [
    "js = [dict1, dict2, dict3, dict4, dict5]"
   ]
  },
  {
   "cell_type": "code",
   "execution_count": 329,
   "metadata": {},
   "outputs": [
    {
     "data": {
      "text/plain": [
       "[{'A': 1, 'B': 2, 'C': 3, 'D': 4, 'E': 7},\n",
       " {'A': 4, 'B': 2, 'C': 1, 'D': 3, 'E': 5},\n",
       " {'A': 7, 'B': 1, 'D': 2, 'E': 9},\n",
       " {'A': 8, 'B': 7, 'L': 6, 'F': 9, 'E': 1},\n",
       " {'A': 4, 'B': 2, 'E': 5}]"
      ]
     },
     "execution_count": 329,
     "metadata": {},
     "output_type": "execute_result"
    }
   ],
   "source": [
    "js"
   ]
  },
  {
   "cell_type": "code",
   "execution_count": 330,
   "metadata": {},
   "outputs": [
    {
     "name": "stdout",
     "output_type": "stream",
     "text": [
      "[{'A': 1, 'B': 2, 'C': 3, 'D': 4, 'E': 7},\n",
      " {'A': 4, 'B': 2, 'C': 1, 'D': 3, 'E': 5},\n",
      " {'A': 7, 'B': 1, 'D': 2, 'E': 9},\n",
      " {'A': 8, 'B': 7, 'E': 1, 'F': 9, 'L': 6},\n",
      " {'A': 4, 'B': 2, 'E': 5}]\n"
     ]
    }
   ],
   "source": [
    "pprint( js )"
   ]
  },
  {
   "cell_type": "code",
   "execution_count": 331,
   "metadata": {},
   "outputs": [
    {
     "name": "stdout",
     "output_type": "stream",
     "text": [
      "{'A': 1, 'B': 2, 'C': 3, 'D': 4, 'E': 7}\n",
      "{'A': 4, 'B': 2, 'C': 1, 'D': 3, 'E': 5}\n",
      "{'A': 7, 'B': 1, 'D': 2, 'E': 9}\n",
      "{'A': 8, 'B': 7, 'L': 6, 'F': 9, 'E': 1}\n",
      "{'A': 4, 'B': 2, 'E': 5}\n"
     ]
    }
   ],
   "source": [
    "for rec in js:\n",
    "    print(rec)"
   ]
  },
  {
   "cell_type": "code",
   "execution_count": 333,
   "metadata": {},
   "outputs": [
    {
     "data": {
      "text/plain": [
       "[{'A': 1, 'B': 2, 'E': 7},\n",
       " {'A': 4, 'B': 2, 'E': 5},\n",
       " {'A': 7, 'B': 1, 'E': 9},\n",
       " {'A': 8, 'B': 7, 'E': 1},\n",
       " {'A': 4, 'B': 2, 'E': 5}]"
      ]
     },
     "execution_count": 333,
     "metadata": {},
     "output_type": "execute_result"
    }
   ],
   "source": [
    "lheaders = ['A','B','E']\n",
    "newJs = []\n",
    "for rec in js:\n",
    "    tempDict = {}\n",
    "    for key in rec.keys():\n",
    "        if key in lheaders:\n",
    "            tempDict[key]=rec[key]\n",
    "    newJs.append( tempDict )\n",
    "newJs"
   ]
  },
  {
   "cell_type": "code",
   "execution_count": 334,
   "metadata": {},
   "outputs": [],
   "source": [
    "df = pd.DataFrame( newJs )"
   ]
  },
  {
   "cell_type": "code",
   "execution_count": 335,
   "metadata": {},
   "outputs": [
    {
     "data": {
      "text/html": [
       "<div>\n",
       "<style scoped>\n",
       "    .dataframe tbody tr th:only-of-type {\n",
       "        vertical-align: middle;\n",
       "    }\n",
       "\n",
       "    .dataframe tbody tr th {\n",
       "        vertical-align: top;\n",
       "    }\n",
       "\n",
       "    .dataframe thead th {\n",
       "        text-align: right;\n",
       "    }\n",
       "</style>\n",
       "<table border=\"1\" class=\"dataframe\">\n",
       "  <thead>\n",
       "    <tr style=\"text-align: right;\">\n",
       "      <th></th>\n",
       "      <th>A</th>\n",
       "      <th>B</th>\n",
       "      <th>E</th>\n",
       "    </tr>\n",
       "  </thead>\n",
       "  <tbody>\n",
       "    <tr>\n",
       "      <th>0</th>\n",
       "      <td>1</td>\n",
       "      <td>2</td>\n",
       "      <td>7</td>\n",
       "    </tr>\n",
       "    <tr>\n",
       "      <th>1</th>\n",
       "      <td>4</td>\n",
       "      <td>2</td>\n",
       "      <td>5</td>\n",
       "    </tr>\n",
       "    <tr>\n",
       "      <th>2</th>\n",
       "      <td>7</td>\n",
       "      <td>1</td>\n",
       "      <td>9</td>\n",
       "    </tr>\n",
       "    <tr>\n",
       "      <th>3</th>\n",
       "      <td>8</td>\n",
       "      <td>7</td>\n",
       "      <td>1</td>\n",
       "    </tr>\n",
       "    <tr>\n",
       "      <th>4</th>\n",
       "      <td>4</td>\n",
       "      <td>2</td>\n",
       "      <td>5</td>\n",
       "    </tr>\n",
       "  </tbody>\n",
       "</table>\n",
       "</div>"
      ],
      "text/plain": [
       "   A  B  E\n",
       "0  1  2  7\n",
       "1  4  2  5\n",
       "2  7  1  9\n",
       "3  8  7  1\n",
       "4  4  2  5"
      ]
     },
     "execution_count": 335,
     "metadata": {},
     "output_type": "execute_result"
    }
   ],
   "source": [
    "df"
   ]
  },
  {
   "cell_type": "code",
   "execution_count": null,
   "metadata": {},
   "outputs": [],
   "source": []
  },
  {
   "cell_type": "code",
   "execution_count": null,
   "metadata": {},
   "outputs": [],
   "source": []
  }
 ],
 "metadata": {
  "kernelspec": {
   "display_name": "Python 3",
   "language": "python",
   "name": "python3"
  },
  "language_info": {
   "codemirror_mode": {
    "name": "ipython",
    "version": 3
   },
   "file_extension": ".py",
   "mimetype": "text/x-python",
   "name": "python",
   "nbconvert_exporter": "python",
   "pygments_lexer": "ipython3",
   "version": "3.7.1"
  }
 },
 "nbformat": 4,
 "nbformat_minor": 2
}
