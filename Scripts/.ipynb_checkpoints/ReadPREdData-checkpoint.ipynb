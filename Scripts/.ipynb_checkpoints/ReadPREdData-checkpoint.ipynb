{
 "cells": [
  {
   "cell_type": "code",
   "execution_count": 85,
   "metadata": {},
   "outputs": [],
   "source": [
    "# Dependencies\n",
    "import numpy as np\n",
    "import pandas as pd\n",
    "import matplotlib.pyplot as plt\n",
    "import requests\n",
    "from pprint import pprint"
   ]
  },
  {
   "cell_type": "code",
   "execution_count": 90,
   "metadata": {},
   "outputs": [],
   "source": [
    "url = \"https://data.pr.gov/resource/gb92-58gc\"\n",
    "pr_ed_data = requests.get(url).json()"
   ]
  },
  {
   "cell_type": "code",
   "execution_count": 91,
   "metadata": {},
   "outputs": [],
   "source": [
    "df = pd.DataFrame(pr_ed_data)\n",
    "df.to_csv(\"temp.csv\")"
   ]
  },
  {
   "cell_type": "code",
   "execution_count": null,
   "metadata": {},
   "outputs": [],
   "source": []
  },
  {
   "cell_type": "code",
   "execution_count": 72,
   "metadata": {},
   "outputs": [
    {
     "data": {
      "text/plain": [
       "{'bajo_nivel_pobreza': '86.24',\n",
       " 'codigo': '35295',\n",
       " 'direccio_estado': 'PR',\n",
       " 'direccio_fisica': 'CARR ESTATAL 200 ESQ CARR ESTATAL 993',\n",
       " 'direccion_municipio': 'VIEQUES',\n",
       " 'direccion_zipcode': '00765-1554',\n",
       " 'director': 'MYRIAM R RODRIGUEZ RODRIGUEZ',\n",
       " 'distrito': 'FAJARDO',\n",
       " 'escuela': '20 DE SEPTIEMBRE DE 1988',\n",
       " 'espa_ol_avanzado': '6.88',\n",
       " 'espa_ol_b_sico': '37.61',\n",
       " 'espa_ol_pre_b_sico': '40.83',\n",
       " 'espa_ol_proficiente': '14.68',\n",
       " 'espa_ol_proficiente_avanzado': '21.56',\n",
       " 'estatus_actual': 'SI',\n",
       " 'fax': '876-2804',\n",
       " 'geolocalizacion': {'latitude': '18.14372', 'longitude': '-65.44178'},\n",
       " 'grado_6': '74',\n",
       " 'grado_7': '71',\n",
       " 'grado_8': '61',\n",
       " 'grado_sgi': '12',\n",
       " 'grados_original': '7 - 9 , EEI',\n",
       " 'grados_posterior': '7 - 9 , EEI',\n",
       " 'ingl_s_avanzado': '5.05',\n",
       " 'ingl_s_b_sico': '26.15',\n",
       " 'ingl_s_pre_b_sico': '54.59',\n",
       " 'ingl_s_proficiente': '14.22',\n",
       " 'ingl_s_proficiente_avanzado': '19.27',\n",
       " 'matem_ticas_avanzado': '0',\n",
       " 'matem_ticas_b_sico': '52.75',\n",
       " 'matem_ticas_pre_b_sico': '45.87',\n",
       " 'matem_ticas_proficiente': '1.38',\n",
       " 'matem_ticas_proficiente_avanzado': '1.38',\n",
       " 'matricula_total': '218',\n",
       " 'municipio_escolar': 'VIEQUES',\n",
       " 'nivel_original': 'INTERMEDIO',\n",
       " 'region': 'HUMACAO',\n",
       " 'table_id': '1',\n",
       " 'telefono': '741-3091',\n",
       " 'zona': 'URBANA'}"
      ]
     },
     "execution_count": 72,
     "metadata": {},
     "output_type": "execute_result"
    }
   ],
   "source": [
    "row = pr_ed_data[0]\n",
    "ThreeRows = pr_ed_data[0:3]"
   ]
  },
  {
   "cell_type": "code",
   "execution_count": 67,
   "metadata": {},
   "outputs": [],
   "source": [
    "\n",
    "#df = pd.DataFrame( pr_ed_data[0] )"
   ]
  },
  {
   "cell_type": "code",
   "execution_count": null,
   "metadata": {},
   "outputs": [],
   "source": [
    "def changeToCorrectStr( pStr ):\n",
    "    strErrorDict = {\"a_o\":\"ñ\", \"l_s\":\"e\", \"b_s\":\"a\", \"m_t\":\"a\"}\n",
    "    for key in strErrorDict:\n",
    "        pos = pStr.find(key)\n",
    "        if pos != -1:\n",
    "            ls = list(pStr)\n",
    "            ls[pos+1] = strErrorDict[key]\n",
    "            pStr = ''.join(str(cr) for cr in ls)\n",
    "    return pStr"
   ]
  },
  {
   "cell_type": "code",
   "execution_count": 50,
   "metadata": {},
   "outputs": [
    {
     "name": "stdout",
     "output_type": "stream",
     "text": [
      "{'bajo_nivel_pobreza': '86.24',\n",
      " 'codigo': '35295',\n",
      " 'direccio_estado': 'PR',\n",
      " 'direccio_fisica': 'CARR ESTATAL 200 ESQ CARR ESTATAL 993',\n",
      " 'direccion_municipio': 'VIEQUES',\n",
      " 'direccion_zipcode': '00765-1554',\n",
      " 'director': 'MYRIAM R RODRIGUEZ RODRIGUEZ',\n",
      " 'distrito': 'FAJARDO',\n",
      " 'escuela': '20 DE SEPTIEMBRE DE 1988',\n",
      " 'espa_ol_avanzado': '6.88',\n",
      " 'espa_ol_b_sico': '37.61',\n",
      " 'espa_ol_pre_b_sico': '40.83',\n",
      " 'espa_ol_proficiente': '14.68',\n",
      " 'espa_ol_proficiente_avanzado': '21.56',\n",
      " 'estatus_actual': 'SI',\n",
      " 'fax': '876-2804',\n",
      " 'geolocalizacion': {'latitude': '18.14372', 'longitude': '-65.44178'},\n",
      " 'grado_6': '74',\n",
      " 'grado_7': '71',\n",
      " 'grado_8': '61',\n",
      " 'grado_sgi': '12',\n",
      " 'grados_original': '7 - 9 , EEI',\n",
      " 'grados_posterior': '7 - 9 , EEI',\n",
      " 'ingl_s_avanzado': '5.05',\n",
      " 'ingl_s_b_sico': '26.15',\n",
      " 'ingl_s_pre_b_sico': '54.59',\n",
      " 'ingl_s_proficiente': '14.22',\n",
      " 'ingl_s_proficiente_avanzado': '19.27',\n",
      " 'matem_ticas_avanzado': '0',\n",
      " 'matem_ticas_b_sico': '52.75',\n",
      " 'matem_ticas_pre_b_sico': '45.87',\n",
      " 'matem_ticas_proficiente': '1.38',\n",
      " 'matem_ticas_proficiente_avanzado': '1.38',\n",
      " 'matricula_total': '218',\n",
      " 'municipio_escolar': 'VIEQUES',\n",
      " 'nivel_original': 'INTERMEDIO',\n",
      " 'region': 'HUMACAO',\n",
      " 'table_id': '1',\n",
      " 'telefono': '741-3091',\n",
      " 'zona': 'URBANA'}\n"
     ]
    }
   ],
   "source": [
    "pprint( row )"
   ]
  },
  {
   "cell_type": "code",
   "execution_count": 51,
   "metadata": {},
   "outputs": [],
   "source": [
    "lat = row[\"geolocalizacion\"]['latitude']\n",
    "lon = row[\"geolocalizacion\"]['longitude']"
   ]
  },
  {
   "cell_type": "code",
   "execution_count": 52,
   "metadata": {},
   "outputs": [],
   "source": [
    "del row[\"geolocalizacion\"]"
   ]
  },
  {
   "cell_type": "code",
   "execution_count": 59,
   "metadata": {},
   "outputs": [
    {
     "data": {
      "text/plain": [
       "{'bajo_nivel_pobreza': '86.24',\n",
       " 'codigo': '35295',\n",
       " 'direccio_estado': 'PR',\n",
       " 'direccio_fisica': 'CARR ESTATAL 200 ESQ CARR ESTATAL 993',\n",
       " 'direccion_municipio': 'VIEQUES',\n",
       " 'direccion_zipcode': '00765-1554',\n",
       " 'director': 'MYRIAM R RODRIGUEZ RODRIGUEZ',\n",
       " 'distrito': 'FAJARDO',\n",
       " 'escuela': '20 DE SEPTIEMBRE DE 1988',\n",
       " 'espa_ol_avanzado': '6.88',\n",
       " 'espa_ol_b_sico': '37.61',\n",
       " 'espa_ol_pre_b_sico': '40.83',\n",
       " 'espa_ol_proficiente': '14.68',\n",
       " 'espa_ol_proficiente_avanzado': '21.56',\n",
       " 'estatus_actual': 'SI',\n",
       " 'fax': '876-2804',\n",
       " 'grado_6': '74',\n",
       " 'grado_7': '71',\n",
       " 'grado_8': '61',\n",
       " 'grado_sgi': '12',\n",
       " 'grados_original': '7 - 9 , EEI',\n",
       " 'grados_posterior': '7 - 9 , EEI',\n",
       " 'ingl_s_avanzado': '5.05',\n",
       " 'ingl_s_b_sico': '26.15',\n",
       " 'ingl_s_pre_b_sico': '54.59',\n",
       " 'ingl_s_proficiente': '14.22',\n",
       " 'ingl_s_proficiente_avanzado': '19.27',\n",
       " 'matem_ticas_avanzado': '0',\n",
       " 'matem_ticas_b_sico': '52.75',\n",
       " 'matem_ticas_pre_b_sico': '45.87',\n",
       " 'matem_ticas_proficiente': '1.38',\n",
       " 'matem_ticas_proficiente_avanzado': '1.38',\n",
       " 'matricula_total': '218',\n",
       " 'municipio_escolar': 'VIEQUES',\n",
       " 'nivel_original': 'INTERMEDIO',\n",
       " 'region': 'HUMACAO',\n",
       " 'table_id': '1',\n",
       " 'telefono': '741-3091',\n",
       " 'zona': 'URBANA'}"
      ]
     },
     "execution_count": 59,
     "metadata": {},
     "output_type": "execute_result"
    }
   ],
   "source": [
    "row"
   ]
  },
  {
   "cell_type": "code",
   "execution_count": 61,
   "metadata": {},
   "outputs": [
    {
     "data": {
      "text/plain": [
       "{'ingles_avanzado': '5.05',\n",
       " 'ingles_basico': '26.15',\n",
       " 'ingles_pre_basico': '54.59',\n",
       " 'ingles_proficiente': '14.22',\n",
       " 'ingles_proficiente_avanzado': '19.27',\n",
       " 'matematicas_avanzado': '0',\n",
       " 'matematicas_basico': '52.75',\n",
       " 'matematicas_pre_basico': '45.87',\n",
       " 'matematicas_proficiente': '1.38',\n",
       " 'matematicas_proficiente_avanzado': '1.38',\n",
       " 'matricula_total': '218',\n",
       " 'municipio_escolar': 'VIEQUES',\n",
       " 'nivel_original': 'INTERMEDIO',\n",
       " 'region': 'HUMACAO',\n",
       " 'table_id': '1',\n",
       " 'telefono': '741-3091',\n",
       " 'zona': 'URBANA',\n",
       " 'bajo_nivel_pobreza': '86.24',\n",
       " 'codigo': '35295',\n",
       " 'direccio_estado': 'PR',\n",
       " 'director': 'MYRIAM R RODRIGUEZ RODRIGUEZ',\n",
       " 'distrito': 'FAJARDO',\n",
       " 'escuela': '20 DE SEPTIEMBRE DE 1988',\n",
       " 'español_avanzado': '6.88',\n",
       " 'español_basico': '37.61',\n",
       " 'español_pre_basico': '40.83',\n",
       " 'español_proficiente': '14.68',\n",
       " 'español_proficiente_avanzado': '21.56',\n",
       " 'estatus_actual': 'SI',\n",
       " 'fax': '876-2804',\n",
       " 'grado_6': '74',\n",
       " 'direccio_fisica': 'CARR ESTATAL 200 ESQ CARR ESTATAL 993',\n",
       " 'direccion_municipio': 'VIEQUES',\n",
       " 'direccion_zipcode': '00765-1554',\n",
       " 'grado_7': '71',\n",
       " 'grado_8': '61',\n",
       " 'grado_sgi': '12',\n",
       " 'grados_original': '7 - 9 , EEI',\n",
       " 'grados_posterior': '7 - 9 , EEI'}"
      ]
     },
     "execution_count": 61,
     "metadata": {},
     "output_type": "execute_result"
    }
   ],
   "source": [
    "for head in row.keys():\n",
    "    row[ changeToCorrectStr( head ) ] = row.pop(head)"
   ]
  },
  {
   "cell_type": "code",
   "execution_count": 62,
   "metadata": {},
   "outputs": [
    {
     "data": {
      "text/html": [
       "<div>\n",
       "<style scoped>\n",
       "    .dataframe tbody tr th:only-of-type {\n",
       "        vertical-align: middle;\n",
       "    }\n",
       "\n",
       "    .dataframe tbody tr th {\n",
       "        vertical-align: top;\n",
       "    }\n",
       "\n",
       "    .dataframe thead th {\n",
       "        text-align: right;\n",
       "    }\n",
       "</style>\n",
       "<table border=\"1\" class=\"dataframe\">\n",
       "  <thead>\n",
       "    <tr style=\"text-align: right;\">\n",
       "      <th></th>\n",
       "      <th>ingles_avanzado</th>\n",
       "      <th>ingles_basico</th>\n",
       "      <th>ingles_pre_basico</th>\n",
       "      <th>ingles_proficiente</th>\n",
       "      <th>ingles_proficiente_avanzado</th>\n",
       "      <th>matematicas_avanzado</th>\n",
       "      <th>matematicas_basico</th>\n",
       "      <th>matematicas_pre_basico</th>\n",
       "      <th>matematicas_proficiente</th>\n",
       "      <th>matematicas_proficiente_avanzado</th>\n",
       "      <th>...</th>\n",
       "      <th>fax</th>\n",
       "      <th>grado_6</th>\n",
       "      <th>direccio_fisica</th>\n",
       "      <th>direccion_municipio</th>\n",
       "      <th>direccion_zipcode</th>\n",
       "      <th>grado_7</th>\n",
       "      <th>grado_8</th>\n",
       "      <th>grado_sgi</th>\n",
       "      <th>grados_original</th>\n",
       "      <th>grados_posterior</th>\n",
       "    </tr>\n",
       "  </thead>\n",
       "  <tbody>\n",
       "    <tr>\n",
       "      <th>0</th>\n",
       "      <td>5.05</td>\n",
       "      <td>26.15</td>\n",
       "      <td>54.59</td>\n",
       "      <td>14.22</td>\n",
       "      <td>19.27</td>\n",
       "      <td>0</td>\n",
       "      <td>52.75</td>\n",
       "      <td>45.87</td>\n",
       "      <td>1.38</td>\n",
       "      <td>1.38</td>\n",
       "      <td>...</td>\n",
       "      <td>876-2804</td>\n",
       "      <td>74</td>\n",
       "      <td>CARR ESTATAL 200 ESQ CARR ESTATAL 993</td>\n",
       "      <td>VIEQUES</td>\n",
       "      <td>00765-1554</td>\n",
       "      <td>71</td>\n",
       "      <td>61</td>\n",
       "      <td>12</td>\n",
       "      <td>7 - 9 , EEI</td>\n",
       "      <td>7 - 9 , EEI</td>\n",
       "    </tr>\n",
       "  </tbody>\n",
       "</table>\n",
       "<p>1 rows × 39 columns</p>\n",
       "</div>"
      ],
      "text/plain": [
       "  ingles_avanzado ingles_basico ingles_pre_basico ingles_proficiente  \\\n",
       "0            5.05         26.15             54.59              14.22   \n",
       "\n",
       "  ingles_proficiente_avanzado matematicas_avanzado matematicas_basico  \\\n",
       "0                       19.27                    0              52.75   \n",
       "\n",
       "  matematicas_pre_basico matematicas_proficiente  \\\n",
       "0                  45.87                    1.38   \n",
       "\n",
       "  matematicas_proficiente_avanzado       ...              fax grado_6  \\\n",
       "0                             1.38       ...         876-2804      74   \n",
       "\n",
       "                         direccio_fisica direccion_municipio  \\\n",
       "0  CARR ESTATAL 200 ESQ CARR ESTATAL 993             VIEQUES   \n",
       "\n",
       "  direccion_zipcode grado_7 grado_8 grado_sgi grados_original grados_posterior  \n",
       "0        00765-1554      71      61        12     7 - 9 , EEI      7 - 9 , EEI  \n",
       "\n",
       "[1 rows x 39 columns]"
      ]
     },
     "execution_count": 62,
     "metadata": {},
     "output_type": "execute_result"
    }
   ],
   "source": [
    "df = pd.DataFrame([[ row[key] for key in row.keys() ]], columns=[ key for key in row.keys() ])\n",
    "df"
   ]
  },
  {
   "cell_type": "code",
   "execution_count": 63,
   "metadata": {},
   "outputs": [],
   "source": [
    "df.insert(16,\"latitude\",[lat])\n",
    "df.insert(17,\"longitude\",[lon])"
   ]
  },
  {
   "cell_type": "code",
   "execution_count": 64,
   "metadata": {},
   "outputs": [],
   "source": [
    "df.to_csv('df.csv')"
   ]
  },
  {
   "cell_type": "markdown",
   "metadata": {},
   "source": [
    "## Other proofs"
   ]
  },
  {
   "cell_type": "code",
   "execution_count": 69,
   "metadata": {},
   "outputs": [
    {
     "data": {
      "text/plain": [
       "[{'bajo_nivel_pobreza': '86.24',\n",
       "  'codigo': '35295',\n",
       "  'direccio_estado': 'PR',\n",
       "  'direccio_fisica': 'CARR ESTATAL 200 ESQ CARR ESTATAL 993',\n",
       "  'direccion_municipio': 'VIEQUES',\n",
       "  'direccion_zipcode': '00765-1554',\n",
       "  'director': 'MYRIAM R RODRIGUEZ RODRIGUEZ',\n",
       "  'distrito': 'FAJARDO',\n",
       "  'escuela': '20 DE SEPTIEMBRE DE 1988',\n",
       "  'espa_ol_avanzado': '6.88',\n",
       "  'espa_ol_b_sico': '37.61',\n",
       "  'espa_ol_pre_b_sico': '40.83',\n",
       "  'espa_ol_proficiente': '14.68',\n",
       "  'espa_ol_proficiente_avanzado': '21.56',\n",
       "  'estatus_actual': 'SI',\n",
       "  'fax': '876-2804',\n",
       "  'geolocalizacion': {'latitude': '18.14372', 'longitude': '-65.44178'},\n",
       "  'grado_6': '74',\n",
       "  'grado_7': '71',\n",
       "  'grado_8': '61',\n",
       "  'grado_sgi': '12',\n",
       "  'grados_original': '7 - 9 , EEI',\n",
       "  'grados_posterior': '7 - 9 , EEI',\n",
       "  'ingl_s_avanzado': '5.05',\n",
       "  'ingl_s_b_sico': '26.15',\n",
       "  'ingl_s_pre_b_sico': '54.59',\n",
       "  'ingl_s_proficiente': '14.22',\n",
       "  'ingl_s_proficiente_avanzado': '19.27',\n",
       "  'matem_ticas_avanzado': '0',\n",
       "  'matem_ticas_b_sico': '52.75',\n",
       "  'matem_ticas_pre_b_sico': '45.87',\n",
       "  'matem_ticas_proficiente': '1.38',\n",
       "  'matem_ticas_proficiente_avanzado': '1.38',\n",
       "  'matricula_total': '218',\n",
       "  'municipio_escolar': 'VIEQUES',\n",
       "  'nivel_original': 'INTERMEDIO',\n",
       "  'region': 'HUMACAO',\n",
       "  'table_id': '1',\n",
       "  'telefono': '741-3091',\n",
       "  'zona': 'URBANA'},\n",
       " {'bajo_nivel_pobreza': '86.69',\n",
       "  'codigo': '57323',\n",
       "  'direccio_estado': 'PR',\n",
       "  'direccio_fisica': 'BO QUEBRADA CALLE 1 SECT CARACOLES',\n",
       "  'direccion_municipio': 'PENUELAS',\n",
       "  'direccion_zipcode': '00624-0000',\n",
       "  'director': 'GLORIA GARCIA',\n",
       "  'distrito': 'YAUCO',\n",
       "  'escuela': 'MIGUEL GONZALEZ BAUZA',\n",
       "  'espa_ol_avanzado': '15.03',\n",
       "  'espa_ol_b_sico': '52.29',\n",
       "  'espa_ol_pre_b_sico': '16.99',\n",
       "  'espa_ol_proficiente': '15.69',\n",
       "  'espa_ol_proficiente_avanzado': '30.72',\n",
       "  'estatus_actual': 'SI',\n",
       "  'fax': '836-2597',\n",
       "  'geolocalizacion': {'latitude': '18.05554', 'longitude': '-66.71168'},\n",
       "  'grado_1': '37',\n",
       "  'grado_2': '49',\n",
       "  'grado_3': '40',\n",
       "  'grado_4': '33',\n",
       "  'grado_5': '40',\n",
       "  'grado_6': '37',\n",
       "  'grado_k': '32',\n",
       "  'grado_pke': '5',\n",
       "  'grado_sge': '7',\n",
       "  'grados_original': 'PK - 6 , EEE',\n",
       "  'grados_posterior': 'PK - 6 , EEE',\n",
       "  'ingl_s_avanzado': '8.61',\n",
       "  'ingl_s_b_sico': '40.40',\n",
       "  'ingl_s_pre_b_sico': '41.72',\n",
       "  'ingl_s_proficiente': '9.27',\n",
       "  'ingl_s_proficiente_avanzado': '17.88',\n",
       "  'matem_ticas_avanzado': '12.42',\n",
       "  'matem_ticas_b_sico': '52.94',\n",
       "  'matem_ticas_pre_b_sico': '17.65',\n",
       "  'matem_ticas_proficiente': '16.99',\n",
       "  'matem_ticas_proficiente_avanzado': '29.41',\n",
       "  'matricula_total': '280',\n",
       "  'municipio_escolar': 'PEÑUELAS',\n",
       "  'nivel_original': 'ELEMENTAL',\n",
       "  'region': 'PONCE',\n",
       "  'table_id': '759',\n",
       "  'telefono': '836-2597',\n",
       "  'zona': 'RURAL'},\n",
       " {'bajo_nivel_pobreza': '65.31',\n",
       "  'codigo': '23218',\n",
       "  'direccio_estado': 'PR',\n",
       "  'direccio_fisica': 'URB REPARTO MONTEBANCO CALLE D',\n",
       "  'direccion_municipio': 'CAYEY',\n",
       "  'direccion_zipcode': '00737-0000',\n",
       "  'director': 'WANDA I.CARTAGENA ORTIZ',\n",
       "  'distrito': 'CIDRA',\n",
       "  'escuela': 'MIGUEL MELENDEZ MUNOZ',\n",
       "  'espa_ol_avanzado': '32.84',\n",
       "  'espa_ol_b_sico': '31.34',\n",
       "  'espa_ol_pre_b_sico': '7.46',\n",
       "  'espa_ol_proficiente': '28.36',\n",
       "  'espa_ol_proficiente_avanzado': '61.19',\n",
       "  'estatus_actual': 'SI',\n",
       "  'fax': '263-3044',\n",
       "  'geolocalizacion': {'latitude': '18.1174', 'longitude': '-66.14892'},\n",
       "  'grado_1': '45',\n",
       "  'grado_2': '44',\n",
       "  'grado_3': '49',\n",
       "  'grado_4': '54',\n",
       "  'grado_5': '48',\n",
       "  'grado_k': '30',\n",
       "  'grado_sge': '8',\n",
       "  'grados_original': 'K - 6 , EEE',\n",
       "  'grados_posterior': 'K - 6 , EEE',\n",
       "  'ingl_s_avanzado': '24.38',\n",
       "  'ingl_s_b_sico': '30.85',\n",
       "  'ingl_s_pre_b_sico': '9.45',\n",
       "  'ingl_s_proficiente': '35.32',\n",
       "  'ingl_s_proficiente_avanzado': '59.70',\n",
       "  'matem_ticas_avanzado': '28.36',\n",
       "  'matem_ticas_b_sico': '39.30',\n",
       "  'matem_ticas_pre_b_sico': '10.45',\n",
       "  'matem_ticas_proficiente': '21.89',\n",
       "  'matem_ticas_proficiente_avanzado': '50.25',\n",
       "  'matricula_total': '278',\n",
       "  'municipio_escolar': 'CAYEY',\n",
       "  'nivel_original': 'ELEMENTAL',\n",
       "  'region': 'CAGUAS',\n",
       "  'table_id': '760',\n",
       "  'telefono': '738-2058',\n",
       "  'zona': 'URBANA'}]"
      ]
     },
     "execution_count": 69,
     "metadata": {},
     "output_type": "execute_result"
    }
   ],
   "source": [
    "ThreeRows"
   ]
  },
  {
   "cell_type": "code",
   "execution_count": null,
   "metadata": {},
   "outputs": [],
   "source": []
  }
 ],
 "metadata": {
  "kernelspec": {
   "display_name": "Python 3",
   "language": "python",
   "name": "python3"
  },
  "language_info": {
   "codemirror_mode": {
    "name": "ipython",
    "version": 3
   },
   "file_extension": ".py",
   "mimetype": "text/x-python",
   "name": "python",
   "nbconvert_exporter": "python",
   "pygments_lexer": "ipython3",
   "version": "3.7.1"
  }
 },
 "nbformat": 4,
 "nbformat_minor": 2
}
