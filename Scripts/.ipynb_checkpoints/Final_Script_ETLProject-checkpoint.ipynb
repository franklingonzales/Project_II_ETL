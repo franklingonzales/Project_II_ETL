{
 "cells": [
  {
   "cell_type": "code",
   "execution_count": 115,
   "metadata": {},
   "outputs": [],
   "source": [
    "# Paths\n",
    "strCsvFolderPath = \"../Resources/CSVs/\"\n",
    "strDatabaseFolderPath = \"../Resources/Databases/\"\n",
    "strJsonFolderPath = \"../Resources/CSVs/\"\n",
    "strPasswdFolderPath = \"../Resources/passwd/\""
   ]
  },
  {
   "cell_type": "code",
   "execution_count": 116,
   "metadata": {},
   "outputs": [],
   "source": [
    "# Dependencies\n",
    "import numpy as np\n",
    "import pandas as pd\n",
    "import matplotlib.pyplot as plt\n",
    "import requests\n",
    "from pprint import pprint"
   ]
  },
  {
   "cell_type": "code",
   "execution_count": 117,
   "metadata": {},
   "outputs": [],
   "source": [
    "strUrl = \"https://data.pr.gov/resource/gb92-58gc\"\n",
    "l_json = requests.get(strUrl).json()\n",
    "\n",
    "# We create a temporal file for analysis\n",
    "df_masterData = pd.DataFrame(l_json)\n",
    "df_masterData.to_csv(strCsvFolderPath + \"masterData.csv\")"
   ]
  },
  {
   "cell_type": "markdown",
   "metadata": {},
   "source": [
    "## Upload total population of Puerto Rico per year. Id = SP.POP.TOTL"
   ]
  },
  {
   "cell_type": "code",
   "execution_count": 118,
   "metadata": {},
   "outputs": [],
   "source": [
    "strUrl = \"http://api.worldbank.org/countries/PRI/indicators/SP.POP.TOTL?format=json&per_page=10000\"\n",
    "l_json = requests.get(strUrl).json()\n",
    "l_json = l_json[1] \n",
    "# We create a temporal file for analysis\n",
    "df_totalPopulation = pd.DataFrame(l_json)\n",
    "df_totalPopulation.to_csv(strCsvFolderPath + \"totalPopulationPerYears.csv\")"
   ]
  },
  {
   "cell_type": "markdown",
   "metadata": {},
   "source": [
    "## Population growth of Puerto Rico per year. Id = SP.POP.GROW"
   ]
  },
  {
   "cell_type": "code",
   "execution_count": 119,
   "metadata": {},
   "outputs": [],
   "source": [
    "strUrl = \"http://api.worldbank.org/countries/PRI/indicators/SP.POP.GROW?format=json&per_page=10000\"\n",
    "l_json = requests.get(strUrl).json()\n",
    "l_json = l_json[1] \n",
    "# We create a temporal file for analysis\n",
    "df_populationGrowth = pd.DataFrame(l_json)\n",
    "df_populationGrowth.to_csv(strCsvFolderPath + \"PopulationGrowthPerYears.csv\")"
   ]
  },
  {
   "cell_type": "markdown",
   "metadata": {},
   "source": [
    "## Age dependency ratio, young (% of working-age population). Id = SP.POP.DPND"
   ]
  },
  {
   "cell_type": "code",
   "execution_count": 120,
   "metadata": {},
   "outputs": [],
   "source": [
    "strUrl = \"http://api.worldbank.org/countries/PRI/indicators/SP.POP.DPND.YG?format=json&per_page=10000\"\n",
    "l_json = requests.get(strUrl).json()\n",
    "l_json = l_json[1] \n",
    "# We create a temporal file for analysis\n",
    "df_ageDependendency = pd.DataFrame(l_json)\n",
    "df_ageDependendency.to_csv(strCsvFolderPath + \"AgeDependencyRatio_Young_PerYears.csv\")"
   ]
  },
  {
   "cell_type": "markdown",
   "metadata": {},
   "source": [
    "## Function changeToCorrectStr"
   ]
  },
  {
   "cell_type": "code",
   "execution_count": 121,
   "metadata": {},
   "outputs": [],
   "source": [
    "def changeToCorrectStr( pStr ):\n",
    "    strErrorDict = {\"a_o\":\"ñ\", \"l_s\":\"e\", \"b_s\":\"a\", \"m_t\":\"a\"}\n",
    "    for key in strErrorDict:\n",
    "        pos = pStr.find(key)\n",
    "        if pos != -1:\n",
    "            ls = list(pStr)\n",
    "            ls[pos+1] = strErrorDict[key]\n",
    "            pStr = ''.join(str(cr) for cr in ls)\n",
    "    return pStr"
   ]
  },
  {
   "cell_type": "code",
   "execution_count": 122,
   "metadata": {},
   "outputs": [
    {
     "data": {
      "text/plain": [
       "'español_basico'"
      ]
     },
     "execution_count": 122,
     "metadata": {},
     "output_type": "execute_result"
    }
   ],
   "source": [
    "changeToCorrectStr('espa_ol_b_sico')"
   ]
  },
  {
   "cell_type": "markdown",
   "metadata": {},
   "source": [
    "## Function recoveryFmtDateToText"
   ]
  },
  {
   "cell_type": "code",
   "execution_count": 123,
   "metadata": {},
   "outputs": [],
   "source": [
    "def recoveryFmtDateToText(pStr):\n",
    "    monthOrder = {'Jan':1, \n",
    "                  'Feb':2, \n",
    "                  'Mar':3, \n",
    "                  'Apr':4, \n",
    "                  'May':5, \n",
    "                  'Jun':6, \n",
    "                  'Jul':7, \n",
    "                  'Aug':8, \n",
    "                  'Sep':9, \n",
    "                  'Oct':10, \n",
    "                  'Nov':11, \n",
    "                  'Dec':12 }\n",
    "    l = pStr.split('-')\n",
    "    return (str(monthOrder[l[1]]) + ' - ' + l[0])"
   ]
  },
  {
   "cell_type": "code",
   "execution_count": 124,
   "metadata": {},
   "outputs": [
    {
     "data": {
      "text/plain": [
       "'7 - 9'"
      ]
     },
     "execution_count": 124,
     "metadata": {},
     "output_type": "execute_result"
    }
   ],
   "source": [
    "recoveryFmtDateToText('9-Jul')"
   ]
  },
  {
   "cell_type": "markdown",
   "metadata": {},
   "source": [
    "## First step: We create l_FilterHeaders with the correct DataFrame columns' names"
   ]
  },
  {
   "cell_type": "code",
   "execution_count": 125,
   "metadata": {},
   "outputs": [
    {
     "data": {
      "text/plain": [
       "['bajo_nivel_pobreza',\n",
       " 'codigo',\n",
       " 'direccio_estado',\n",
       " 'direccio_fisica',\n",
       " 'direccion_municipio',\n",
       " 'direccion_zipcode',\n",
       " 'director',\n",
       " 'distrito',\n",
       " 'escuela',\n",
       " 'español_avanzado',\n",
       " 'español_basico',\n",
       " 'español_pre_basico',\n",
       " 'español_proficiente',\n",
       " 'español_proficiente_avanzado',\n",
       " 'estatus_actual',\n",
       " 'fax',\n",
       " 'geolocalizacion',\n",
       " 'grados_original',\n",
       " 'grados_posterior',\n",
       " 'ingles_avanzado',\n",
       " 'ingles_basico',\n",
       " 'ingles_pre_basico',\n",
       " 'ingles_proficiente',\n",
       " 'ingles_proficiente_avanzado',\n",
       " 'matematicas_avanzado',\n",
       " 'matematicas_basico',\n",
       " 'matematicas_pre_basico',\n",
       " 'matematicas_proficiente',\n",
       " 'matematicas_proficiente_avanzado',\n",
       " 'matricula_total',\n",
       " 'municipio_escolar',\n",
       " 'nivel_original',\n",
       " 'region',\n",
       " 'table_id',\n",
       " 'telefono',\n",
       " 'zona']"
      ]
     },
     "execution_count": 125,
     "metadata": {},
     "output_type": "execute_result"
    }
   ],
   "source": [
    "strUrl = \"https://data.pr.gov/resource/gb92-58gc\"\n",
    "l_jsonMasterData = requests.get(strUrl).json()\n",
    "# We catch the first row from dataFrame df_masterData\n",
    "dc_row = l_jsonMasterData[0]\n",
    "\n",
    "l_FilterHeaders = []\n",
    "for key in dc_row.keys():\n",
    "    if key.find(\"grado_\") == -1: # We filter only the columns whose name does not start with \"grado_\"\n",
    "        newKey = changeToCorrectStr( key ) # Fix the name of the column\n",
    "        l_FilterHeaders.append(newKey)\n",
    "l_FilterHeaders"
   ]
  },
  {
   "cell_type": "markdown",
   "metadata": {},
   "source": [
    "## We clean the data and create the new columns latitude and longitude"
   ]
  },
  {
   "cell_type": "code",
   "execution_count": 126,
   "metadata": {},
   "outputs": [],
   "source": [
    "l_newJson = [] # new Json with columns and their right values \n",
    "l_LatLong = [] # new two columns: Latitude and Longitude\n",
    "for rec in l_jsonMasterData:\n",
    "    # if the current record or row has less than 30 fields with data, then we discard it. \n",
    "    # if the record has more than 30 fields with data then we copy the important information to the list l_newJson\n",
    "    if len(rec) > 30: \n",
    "        dc_temp = {}\n",
    "        dc_LatLong = {}\n",
    "        for key in rec.keys():\n",
    "            newKey = changeToCorrectStr( key )\n",
    "            if newKey in l_FilterHeaders: # We copy only the columns that do not start with the word grado_\n",
    "                # If it is the \"geolocalizacion\" column we start copying the data from your dictionary to the list l_LatLong,\n",
    "                # but we discard this data from the list l_newJson.\n",
    "                if newKey == \"geolocalizacion\": \n",
    "                    dc_LatLong[\"latitude\"] = rec[\"geolocalizacion\"][\"latitude\"]\n",
    "                    dc_LatLong[\"longitude\"] = rec[\"geolocalizacion\"][\"longitude\"] \n",
    "                    l_LatLong.append( dc_LatLong )\n",
    "                else:\n",
    "                    dc_temp[newKey]=rec[key]\n",
    "        l_newJson.append( dc_temp )"
   ]
  },
  {
   "cell_type": "markdown",
   "metadata": {},
   "source": [
    "## We verify that both \"l_newJson\" and \"l_LatLong\" have the same number of rows."
   ]
  },
  {
   "cell_type": "code",
   "execution_count": 127,
   "metadata": {},
   "outputs": [
    {
     "data": {
      "text/plain": [
       "961"
      ]
     },
     "execution_count": 127,
     "metadata": {},
     "output_type": "execute_result"
    }
   ],
   "source": [
    "len( l_newJson )"
   ]
  },
  {
   "cell_type": "code",
   "execution_count": 128,
   "metadata": {},
   "outputs": [
    {
     "data": {
      "text/plain": [
       "961"
      ]
     },
     "execution_count": 128,
     "metadata": {},
     "output_type": "execute_result"
    }
   ],
   "source": [
    "len( l_LatLong )"
   ]
  },
  {
   "cell_type": "markdown",
   "metadata": {},
   "source": [
    "## We use the function recoveryFmtDateToText, to fix, fields with date format."
   ]
  },
  {
   "cell_type": "code",
   "execution_count": 129,
   "metadata": {},
   "outputs": [],
   "source": [
    "l_months = ['Jan','Feb','Mar','Apr','May','Jun','Jul','Aug','Sep','Oct','Nov','Dec']\n",
    "idx = 0\n",
    "for rec in l_newJson:\n",
    "    strVal1 = rec[\"grados_original\"]\n",
    "    strVal2 = rec[\"grados_posterior\"]\n",
    "    for month in l_months:\n",
    "        if strVal1.find(month) != -1:\n",
    "            strVal1 = recoveryFmtDateToText(strVal1)\n",
    "            l_newJson[ idx ][\"grados_original\"] = strVal1\n",
    "        if strVal2.find(month) != -1:\n",
    "            strVal2 = recoveryFmtDateToText(strVal2)\n",
    "            l_newJson[ idx ][\"grados_posterior\"] = strVal2\n",
    "    idx = idx + 1"
   ]
  },
  {
   "cell_type": "code",
   "execution_count": 130,
   "metadata": {},
   "outputs": [],
   "source": [
    "df_masterData = pd.DataFrame(l_newJson)\n",
    "df_LatLong = pd.DataFrame(l_LatLong)"
   ]
  },
  {
   "cell_type": "code",
   "execution_count": 131,
   "metadata": {},
   "outputs": [
    {
     "data": {
      "text/html": [
       "<div>\n",
       "<style scoped>\n",
       "    .dataframe tbody tr th:only-of-type {\n",
       "        vertical-align: middle;\n",
       "    }\n",
       "\n",
       "    .dataframe tbody tr th {\n",
       "        vertical-align: top;\n",
       "    }\n",
       "\n",
       "    .dataframe thead th {\n",
       "        text-align: right;\n",
       "    }\n",
       "</style>\n",
       "<table border=\"1\" class=\"dataframe\">\n",
       "  <thead>\n",
       "    <tr style=\"text-align: right;\">\n",
       "      <th></th>\n",
       "      <th>bajo_nivel_pobreza</th>\n",
       "      <th>codigo</th>\n",
       "      <th>direccio_estado</th>\n",
       "      <th>direccio_fisica</th>\n",
       "      <th>direccion_municipio</th>\n",
       "      <th>direccion_zipcode</th>\n",
       "      <th>director</th>\n",
       "      <th>distrito</th>\n",
       "      <th>escuela</th>\n",
       "      <th>español_avanzado</th>\n",
       "      <th>...</th>\n",
       "      <th>matematicas_pre_basico</th>\n",
       "      <th>matematicas_proficiente</th>\n",
       "      <th>matematicas_proficiente_avanzado</th>\n",
       "      <th>matricula_total</th>\n",
       "      <th>municipio_escolar</th>\n",
       "      <th>nivel_original</th>\n",
       "      <th>region</th>\n",
       "      <th>table_id</th>\n",
       "      <th>telefono</th>\n",
       "      <th>zona</th>\n",
       "    </tr>\n",
       "  </thead>\n",
       "  <tbody>\n",
       "    <tr>\n",
       "      <th>0</th>\n",
       "      <td>86.24</td>\n",
       "      <td>35295</td>\n",
       "      <td>PR</td>\n",
       "      <td>CARR ESTATAL 200 ESQ CARR ESTATAL 993</td>\n",
       "      <td>VIEQUES</td>\n",
       "      <td>00765-1554</td>\n",
       "      <td>MYRIAM R RODRIGUEZ RODRIGUEZ</td>\n",
       "      <td>FAJARDO</td>\n",
       "      <td>20 DE SEPTIEMBRE DE 1988</td>\n",
       "      <td>6.88</td>\n",
       "      <td>...</td>\n",
       "      <td>45.87</td>\n",
       "      <td>1.38</td>\n",
       "      <td>1.38</td>\n",
       "      <td>218</td>\n",
       "      <td>VIEQUES</td>\n",
       "      <td>INTERMEDIO</td>\n",
       "      <td>HUMACAO</td>\n",
       "      <td>1</td>\n",
       "      <td>741-3091</td>\n",
       "      <td>URBANA</td>\n",
       "    </tr>\n",
       "    <tr>\n",
       "      <th>1</th>\n",
       "      <td>86.69</td>\n",
       "      <td>57323</td>\n",
       "      <td>PR</td>\n",
       "      <td>BO QUEBRADA CALLE 1 SECT CARACOLES</td>\n",
       "      <td>PENUELAS</td>\n",
       "      <td>00624-0000</td>\n",
       "      <td>GLORIA GARCIA</td>\n",
       "      <td>YAUCO</td>\n",
       "      <td>MIGUEL GONZALEZ BAUZA</td>\n",
       "      <td>15.03</td>\n",
       "      <td>...</td>\n",
       "      <td>17.65</td>\n",
       "      <td>16.99</td>\n",
       "      <td>29.41</td>\n",
       "      <td>280</td>\n",
       "      <td>PEÑUELAS</td>\n",
       "      <td>ELEMENTAL</td>\n",
       "      <td>PONCE</td>\n",
       "      <td>759</td>\n",
       "      <td>836-2597</td>\n",
       "      <td>RURAL</td>\n",
       "    </tr>\n",
       "    <tr>\n",
       "      <th>2</th>\n",
       "      <td>65.31</td>\n",
       "      <td>23218</td>\n",
       "      <td>PR</td>\n",
       "      <td>URB REPARTO MONTEBANCO CALLE D</td>\n",
       "      <td>CAYEY</td>\n",
       "      <td>00737-0000</td>\n",
       "      <td>WANDA I.CARTAGENA ORTIZ</td>\n",
       "      <td>CIDRA</td>\n",
       "      <td>MIGUEL MELENDEZ MUNOZ</td>\n",
       "      <td>32.84</td>\n",
       "      <td>...</td>\n",
       "      <td>10.45</td>\n",
       "      <td>21.89</td>\n",
       "      <td>50.25</td>\n",
       "      <td>278</td>\n",
       "      <td>CAYEY</td>\n",
       "      <td>ELEMENTAL</td>\n",
       "      <td>CAGUAS</td>\n",
       "      <td>760</td>\n",
       "      <td>738-2058</td>\n",
       "      <td>URBANA</td>\n",
       "    </tr>\n",
       "    <tr>\n",
       "      <th>3</th>\n",
       "      <td>65.71</td>\n",
       "      <td>23531</td>\n",
       "      <td>PR</td>\n",
       "      <td>AVE ANTONIO R BARCELO FRENTE CUC</td>\n",
       "      <td>CAYEY</td>\n",
       "      <td>00737-0000</td>\n",
       "      <td>PEDRO SANCHEZ</td>\n",
       "      <td>CIDRA</td>\n",
       "      <td>MIGUEL MELENDEZ MUNOZ</td>\n",
       "      <td>23.98</td>\n",
       "      <td>...</td>\n",
       "      <td>10.40</td>\n",
       "      <td>17.34</td>\n",
       "      <td>30.06</td>\n",
       "      <td>762</td>\n",
       "      <td>CAYEY</td>\n",
       "      <td>SUPERIOR</td>\n",
       "      <td>CAGUAS</td>\n",
       "      <td>761</td>\n",
       "      <td>738-3078</td>\n",
       "      <td>URBANA</td>\n",
       "    </tr>\n",
       "    <tr>\n",
       "      <th>4</th>\n",
       "      <td>63.10</td>\n",
       "      <td>70276</td>\n",
       "      <td>PR</td>\n",
       "      <td>CARR 840 KM 1 HM 1 SECTOR LA ALDEA</td>\n",
       "      <td>BAYAMON</td>\n",
       "      <td>00960-3169</td>\n",
       "      <td>MARIA JUDITH VAZQUEZ FONTANEZ</td>\n",
       "      <td>BAYAMON</td>\n",
       "      <td>MIGUEL MELENDEZ MUNOZ</td>\n",
       "      <td>44.59</td>\n",
       "      <td>...</td>\n",
       "      <td>19.59</td>\n",
       "      <td>16.89</td>\n",
       "      <td>35.14</td>\n",
       "      <td>577</td>\n",
       "      <td>BAYAMON II</td>\n",
       "      <td>SUPERIOR</td>\n",
       "      <td>BAYAMON</td>\n",
       "      <td>762</td>\n",
       "      <td>799-7300</td>\n",
       "      <td>RURAL</td>\n",
       "    </tr>\n",
       "  </tbody>\n",
       "</table>\n",
       "<p>5 rows × 35 columns</p>\n",
       "</div>"
      ],
      "text/plain": [
       "  bajo_nivel_pobreza codigo direccio_estado  \\\n",
       "0              86.24  35295              PR   \n",
       "1              86.69  57323              PR   \n",
       "2              65.31  23218              PR   \n",
       "3              65.71  23531              PR   \n",
       "4              63.10  70276              PR   \n",
       "\n",
       "                         direccio_fisica direccion_municipio  \\\n",
       "0  CARR ESTATAL 200 ESQ CARR ESTATAL 993             VIEQUES   \n",
       "1     BO QUEBRADA CALLE 1 SECT CARACOLES            PENUELAS   \n",
       "2         URB REPARTO MONTEBANCO CALLE D               CAYEY   \n",
       "3       AVE ANTONIO R BARCELO FRENTE CUC               CAYEY   \n",
       "4     CARR 840 KM 1 HM 1 SECTOR LA ALDEA             BAYAMON   \n",
       "\n",
       "  direccion_zipcode                       director distrito  \\\n",
       "0        00765-1554   MYRIAM R RODRIGUEZ RODRIGUEZ  FAJARDO   \n",
       "1        00624-0000                  GLORIA GARCIA    YAUCO   \n",
       "2        00737-0000        WANDA I.CARTAGENA ORTIZ    CIDRA   \n",
       "3        00737-0000                  PEDRO SANCHEZ    CIDRA   \n",
       "4        00960-3169  MARIA JUDITH VAZQUEZ FONTANEZ  BAYAMON   \n",
       "\n",
       "                    escuela español_avanzado   ...   matematicas_pre_basico  \\\n",
       "0  20 DE SEPTIEMBRE DE 1988             6.88   ...                    45.87   \n",
       "1     MIGUEL GONZALEZ BAUZA            15.03   ...                    17.65   \n",
       "2     MIGUEL MELENDEZ MUNOZ            32.84   ...                    10.45   \n",
       "3     MIGUEL MELENDEZ MUNOZ            23.98   ...                    10.40   \n",
       "4     MIGUEL MELENDEZ MUNOZ            44.59   ...                    19.59   \n",
       "\n",
       "  matematicas_proficiente matematicas_proficiente_avanzado matricula_total  \\\n",
       "0                    1.38                             1.38             218   \n",
       "1                   16.99                            29.41             280   \n",
       "2                   21.89                            50.25             278   \n",
       "3                   17.34                            30.06             762   \n",
       "4                   16.89                            35.14             577   \n",
       "\n",
       "  municipio_escolar nivel_original   region table_id  telefono    zona  \n",
       "0           VIEQUES     INTERMEDIO  HUMACAO        1  741-3091  URBANA  \n",
       "1          PEÑUELAS      ELEMENTAL    PONCE      759  836-2597   RURAL  \n",
       "2             CAYEY      ELEMENTAL   CAGUAS      760  738-2058  URBANA  \n",
       "3             CAYEY       SUPERIOR   CAGUAS      761  738-3078  URBANA  \n",
       "4        BAYAMON II       SUPERIOR  BAYAMON      762  799-7300   RURAL  \n",
       "\n",
       "[5 rows x 35 columns]"
      ]
     },
     "execution_count": 131,
     "metadata": {},
     "output_type": "execute_result"
    }
   ],
   "source": [
    "df_masterData.head()"
   ]
  },
  {
   "cell_type": "code",
   "execution_count": 132,
   "metadata": {},
   "outputs": [
    {
     "data": {
      "text/html": [
       "<div>\n",
       "<style scoped>\n",
       "    .dataframe tbody tr th:only-of-type {\n",
       "        vertical-align: middle;\n",
       "    }\n",
       "\n",
       "    .dataframe tbody tr th {\n",
       "        vertical-align: top;\n",
       "    }\n",
       "\n",
       "    .dataframe thead th {\n",
       "        text-align: right;\n",
       "    }\n",
       "</style>\n",
       "<table border=\"1\" class=\"dataframe\">\n",
       "  <thead>\n",
       "    <tr style=\"text-align: right;\">\n",
       "      <th></th>\n",
       "      <th>latitude</th>\n",
       "      <th>longitude</th>\n",
       "    </tr>\n",
       "  </thead>\n",
       "  <tbody>\n",
       "    <tr>\n",
       "      <th>0</th>\n",
       "      <td>18.14372</td>\n",
       "      <td>-65.44178</td>\n",
       "    </tr>\n",
       "    <tr>\n",
       "      <th>1</th>\n",
       "      <td>18.05554</td>\n",
       "      <td>-66.71168</td>\n",
       "    </tr>\n",
       "    <tr>\n",
       "      <th>2</th>\n",
       "      <td>18.1174</td>\n",
       "      <td>-66.14892</td>\n",
       "    </tr>\n",
       "    <tr>\n",
       "      <th>3</th>\n",
       "      <td>18.116</td>\n",
       "      <td>-66.16099</td>\n",
       "    </tr>\n",
       "    <tr>\n",
       "      <th>4</th>\n",
       "      <td>18.36999</td>\n",
       "      <td>-66.17751</td>\n",
       "    </tr>\n",
       "  </tbody>\n",
       "</table>\n",
       "</div>"
      ],
      "text/plain": [
       "   latitude  longitude\n",
       "0  18.14372  -65.44178\n",
       "1  18.05554  -66.71168\n",
       "2   18.1174  -66.14892\n",
       "3    18.116  -66.16099\n",
       "4  18.36999  -66.17751"
      ]
     },
     "execution_count": 132,
     "metadata": {},
     "output_type": "execute_result"
    }
   ],
   "source": [
    "df_LatLong.head()"
   ]
  },
  {
   "cell_type": "markdown",
   "metadata": {},
   "source": [
    "## We insert the \"latitude\" and \"longitude\" columns in positions 16 and 17 of the df_masterData"
   ]
  },
  {
   "cell_type": "code",
   "execution_count": 133,
   "metadata": {},
   "outputs": [],
   "source": [
    "df_masterData.insert(16,\"latitude\",df_LatLong[[\"latitude\"]])\n",
    "df_masterData.insert(17,\"longitude\",df_LatLong[[\"longitude\"]])"
   ]
  },
  {
   "cell_type": "code",
   "execution_count": 134,
   "metadata": {},
   "outputs": [
    {
     "data": {
      "text/html": [
       "<div>\n",
       "<style scoped>\n",
       "    .dataframe tbody tr th:only-of-type {\n",
       "        vertical-align: middle;\n",
       "    }\n",
       "\n",
       "    .dataframe tbody tr th {\n",
       "        vertical-align: top;\n",
       "    }\n",
       "\n",
       "    .dataframe thead th {\n",
       "        text-align: right;\n",
       "    }\n",
       "</style>\n",
       "<table border=\"1\" class=\"dataframe\">\n",
       "  <thead>\n",
       "    <tr style=\"text-align: right;\">\n",
       "      <th></th>\n",
       "      <th>fax</th>\n",
       "      <th>latitude</th>\n",
       "      <th>longitude</th>\n",
       "    </tr>\n",
       "  </thead>\n",
       "  <tbody>\n",
       "    <tr>\n",
       "      <th>0</th>\n",
       "      <td>876-2804</td>\n",
       "      <td>18.14372</td>\n",
       "      <td>-65.44178</td>\n",
       "    </tr>\n",
       "    <tr>\n",
       "      <th>1</th>\n",
       "      <td>836-2597</td>\n",
       "      <td>18.05554</td>\n",
       "      <td>-66.71168</td>\n",
       "    </tr>\n",
       "    <tr>\n",
       "      <th>2</th>\n",
       "      <td>263-3044</td>\n",
       "      <td>18.1174</td>\n",
       "      <td>-66.14892</td>\n",
       "    </tr>\n",
       "    <tr>\n",
       "      <th>3</th>\n",
       "      <td>738-9065</td>\n",
       "      <td>18.116</td>\n",
       "      <td>-66.16099</td>\n",
       "    </tr>\n",
       "    <tr>\n",
       "      <th>4</th>\n",
       "      <td>799-6500</td>\n",
       "      <td>18.36999</td>\n",
       "      <td>-66.17751</td>\n",
       "    </tr>\n",
       "  </tbody>\n",
       "</table>\n",
       "</div>"
      ],
      "text/plain": [
       "        fax  latitude  longitude\n",
       "0  876-2804  18.14372  -65.44178\n",
       "1  836-2597  18.05554  -66.71168\n",
       "2  263-3044   18.1174  -66.14892\n",
       "3  738-9065    18.116  -66.16099\n",
       "4  799-6500  18.36999  -66.17751"
      ]
     },
     "execution_count": 134,
     "metadata": {},
     "output_type": "execute_result"
    }
   ],
   "source": [
    "df_masterData[[\"fax\",\"latitude\",\"longitude\"]].head()"
   ]
  },
  {
   "cell_type": "markdown",
   "metadata": {},
   "source": [
    "## We verify that the values of the columns \"grados_original\" and \"grados_posterior\" have been fixed."
   ]
  },
  {
   "cell_type": "code",
   "execution_count": 135,
   "metadata": {},
   "outputs": [
    {
     "data": {
      "text/html": [
       "<div>\n",
       "<style scoped>\n",
       "    .dataframe tbody tr th:only-of-type {\n",
       "        vertical-align: middle;\n",
       "    }\n",
       "\n",
       "    .dataframe tbody tr th {\n",
       "        vertical-align: top;\n",
       "    }\n",
       "\n",
       "    .dataframe thead th {\n",
       "        text-align: right;\n",
       "    }\n",
       "</style>\n",
       "<table border=\"1\" class=\"dataframe\">\n",
       "  <thead>\n",
       "    <tr style=\"text-align: right;\">\n",
       "      <th></th>\n",
       "      <th>grados_original</th>\n",
       "      <th>grados_posterior</th>\n",
       "    </tr>\n",
       "  </thead>\n",
       "  <tbody>\n",
       "    <tr>\n",
       "      <th>0</th>\n",
       "      <td>7 - 9 , EEI</td>\n",
       "      <td>7 - 9 , EEI</td>\n",
       "    </tr>\n",
       "    <tr>\n",
       "      <th>1</th>\n",
       "      <td>PK - 6 , EEE</td>\n",
       "      <td>PK - 6 , EEE</td>\n",
       "    </tr>\n",
       "    <tr>\n",
       "      <th>2</th>\n",
       "      <td>K - 6 , EEE</td>\n",
       "      <td>K - 6 , EEE</td>\n",
       "    </tr>\n",
       "    <tr>\n",
       "      <th>3</th>\n",
       "      <td>10 - 12</td>\n",
       "      <td>10 - 12</td>\n",
       "    </tr>\n",
       "    <tr>\n",
       "      <th>4</th>\n",
       "      <td>10 - 12</td>\n",
       "      <td>10 - 12</td>\n",
       "    </tr>\n",
       "    <tr>\n",
       "      <th>5</th>\n",
       "      <td>10 - 12 , EES</td>\n",
       "      <td>10 - 12 , EES</td>\n",
       "    </tr>\n",
       "    <tr>\n",
       "      <th>6</th>\n",
       "      <td>10 - 12</td>\n",
       "      <td>10 - 12</td>\n",
       "    </tr>\n",
       "    <tr>\n",
       "      <th>7</th>\n",
       "      <td>PK - 6 , EEE</td>\n",
       "      <td>PK - 6 , EEE</td>\n",
       "    </tr>\n",
       "    <tr>\n",
       "      <th>8</th>\n",
       "      <td>K - 6 , EEE</td>\n",
       "      <td>K - 8, EEE, EEI</td>\n",
       "    </tr>\n",
       "    <tr>\n",
       "      <th>9</th>\n",
       "      <td>K - 3 , EEE</td>\n",
       "      <td>K - 3 , EEE</td>\n",
       "    </tr>\n",
       "    <tr>\n",
       "      <th>10</th>\n",
       "      <td>7 - 9</td>\n",
       "      <td>K - 8, EEI</td>\n",
       "    </tr>\n",
       "    <tr>\n",
       "      <th>11</th>\n",
       "      <td>10 - 12</td>\n",
       "      <td>10 - 12</td>\n",
       "    </tr>\n",
       "    <tr>\n",
       "      <th>12</th>\n",
       "      <td>7 - 9</td>\n",
       "      <td>K - 8</td>\n",
       "    </tr>\n",
       "    <tr>\n",
       "      <th>13</th>\n",
       "      <td>7 - 9</td>\n",
       "      <td>7 - 9</td>\n",
       "    </tr>\n",
       "    <tr>\n",
       "      <th>14</th>\n",
       "      <td>7 - 12</td>\n",
       "      <td>7 - 12</td>\n",
       "    </tr>\n",
       "    <tr>\n",
       "      <th>15</th>\n",
       "      <td>K - 6 , EEE</td>\n",
       "      <td>K - 5, PKEE, EEE</td>\n",
       "    </tr>\n",
       "    <tr>\n",
       "      <th>16</th>\n",
       "      <td>K - 6 , EEE</td>\n",
       "      <td>K - 6, EEE</td>\n",
       "    </tr>\n",
       "    <tr>\n",
       "      <th>17</th>\n",
       "      <td>PK - 6 EEE</td>\n",
       "      <td>K - 5, EEE, PKEE</td>\n",
       "    </tr>\n",
       "    <tr>\n",
       "      <th>18</th>\n",
       "      <td>K - 9 , EEE - EEI</td>\n",
       "      <td>K - 9 , EEE - EEI</td>\n",
       "    </tr>\n",
       "    <tr>\n",
       "      <th>19</th>\n",
       "      <td>7 - 9 , EEI</td>\n",
       "      <td>6 - 9, EEI</td>\n",
       "    </tr>\n",
       "  </tbody>\n",
       "</table>\n",
       "</div>"
      ],
      "text/plain": [
       "      grados_original   grados_posterior\n",
       "0         7 - 9 , EEI        7 - 9 , EEI\n",
       "1        PK - 6 , EEE       PK - 6 , EEE\n",
       "2         K - 6 , EEE        K - 6 , EEE\n",
       "3             10 - 12            10 - 12\n",
       "4             10 - 12            10 - 12\n",
       "5       10 - 12 , EES      10 - 12 , EES\n",
       "6             10 - 12            10 - 12\n",
       "7        PK - 6 , EEE       PK - 6 , EEE\n",
       "8         K - 6 , EEE    K - 8, EEE, EEI\n",
       "9         K - 3 , EEE        K - 3 , EEE\n",
       "10              7 - 9         K - 8, EEI\n",
       "11            10 - 12            10 - 12\n",
       "12              7 - 9              K - 8\n",
       "13              7 - 9              7 - 9\n",
       "14             7 - 12             7 - 12\n",
       "15        K - 6 , EEE   K - 5, PKEE, EEE\n",
       "16        K - 6 , EEE         K - 6, EEE\n",
       "17         PK - 6 EEE   K - 5, EEE, PKEE\n",
       "18  K - 9 , EEE - EEI  K - 9 , EEE - EEI\n",
       "19        7 - 9 , EEI         6 - 9, EEI"
      ]
     },
     "execution_count": 135,
     "metadata": {},
     "output_type": "execute_result"
    }
   ],
   "source": [
    "df_masterData[[\"grados_original\",\"grados_posterior\"]].head(20)"
   ]
  },
  {
   "cell_type": "markdown",
   "metadata": {},
   "source": [
    "## Database Creation into SQLite"
   ]
  },
  {
   "cell_type": "code",
   "execution_count": 137,
   "metadata": {},
   "outputs": [
    {
     "name": "stdout",
     "output_type": "stream",
     "text": [
      "2019-05-18 03:26:13,878 INFO sqlalchemy.engine.base.Engine SELECT CAST('test plain returns' AS VARCHAR(60)) AS anon_1\n",
      "2019-05-18 03:26:13,879 INFO sqlalchemy.engine.base.Engine ()\n",
      "2019-05-18 03:26:13,880 INFO sqlalchemy.engine.base.Engine SELECT CAST('test unicode returns' AS VARCHAR(60)) AS anon_1\n",
      "2019-05-18 03:26:13,880 INFO sqlalchemy.engine.base.Engine ()\n"
     ]
    }
   ],
   "source": [
    "from sqlalchemy import create_engine\n",
    "from sqlalchemy.ext.declarative import declarative_base\n",
    "\n",
    "strDataBaseName = \"censusData.sqlite\"\n",
    "\n",
    "engine = create_engine(f\"sqlite:///{strDatabaseFolderPath}{strDataBaseName}\", echo=True)\n",
    "Base = declarative_base()\n",
    "\n",
    "Base.metadata.create_all(engine)"
   ]
  },
  {
   "cell_type": "code",
   "execution_count": 138,
   "metadata": {},
   "outputs": [],
   "source": [
    "database_path = strDatabaseFolderPath + strDataBaseName\n",
    "engine = create_engine(f'sqlite:///{database_path}')"
   ]
  },
  {
   "cell_type": "code",
   "execution_count": 139,
   "metadata": {},
   "outputs": [
    {
     "data": {
      "text/plain": [
       "[]"
      ]
     },
     "execution_count": 139,
     "metadata": {},
     "output_type": "execute_result"
    }
   ],
   "source": [
    "engine.table_names()"
   ]
  },
  {
   "cell_type": "markdown",
   "metadata": {},
   "source": [
    "## Process of loading data."
   ]
  },
  {
   "cell_type": "code",
   "execution_count": 140,
   "metadata": {},
   "outputs": [],
   "source": [
    "df_masterData.to_sql(name='tblMasterData', con=engine, if_exists='append', index=False)"
   ]
  },
  {
   "cell_type": "code",
   "execution_count": 141,
   "metadata": {},
   "outputs": [
    {
     "data": {
      "text/plain": [
       "['tblMasterData']"
      ]
     },
     "execution_count": 141,
     "metadata": {},
     "output_type": "execute_result"
    }
   ],
   "source": [
    "engine.table_names()"
   ]
  },
  {
   "cell_type": "code",
   "execution_count": 144,
   "metadata": {},
   "outputs": [
    {
     "data": {
      "text/html": [
       "<div>\n",
       "<style scoped>\n",
       "    .dataframe tbody tr th:only-of-type {\n",
       "        vertical-align: middle;\n",
       "    }\n",
       "\n",
       "    .dataframe tbody tr th {\n",
       "        vertical-align: top;\n",
       "    }\n",
       "\n",
       "    .dataframe thead th {\n",
       "        text-align: right;\n",
       "    }\n",
       "</style>\n",
       "<table border=\"1\" class=\"dataframe\">\n",
       "  <thead>\n",
       "    <tr style=\"text-align: right;\">\n",
       "      <th></th>\n",
       "      <th>bajo_nivel_pobreza</th>\n",
       "      <th>codigo</th>\n",
       "      <th>direccio_estado</th>\n",
       "      <th>direccio_fisica</th>\n",
       "      <th>direccion_municipio</th>\n",
       "      <th>direccion_zipcode</th>\n",
       "      <th>director</th>\n",
       "      <th>distrito</th>\n",
       "      <th>escuela</th>\n",
       "      <th>español_avanzado</th>\n",
       "      <th>...</th>\n",
       "      <th>matematicas_pre_basico</th>\n",
       "      <th>matematicas_proficiente</th>\n",
       "      <th>matematicas_proficiente_avanzado</th>\n",
       "      <th>matricula_total</th>\n",
       "      <th>municipio_escolar</th>\n",
       "      <th>nivel_original</th>\n",
       "      <th>region</th>\n",
       "      <th>table_id</th>\n",
       "      <th>telefono</th>\n",
       "      <th>zona</th>\n",
       "    </tr>\n",
       "  </thead>\n",
       "  <tbody>\n",
       "    <tr>\n",
       "      <th>0</th>\n",
       "      <td>86.24</td>\n",
       "      <td>35295</td>\n",
       "      <td>PR</td>\n",
       "      <td>CARR ESTATAL 200 ESQ CARR ESTATAL 993</td>\n",
       "      <td>VIEQUES</td>\n",
       "      <td>00765-1554</td>\n",
       "      <td>MYRIAM R RODRIGUEZ RODRIGUEZ</td>\n",
       "      <td>FAJARDO</td>\n",
       "      <td>20 DE SEPTIEMBRE DE 1988</td>\n",
       "      <td>6.88</td>\n",
       "      <td>...</td>\n",
       "      <td>45.87</td>\n",
       "      <td>1.38</td>\n",
       "      <td>1.38</td>\n",
       "      <td>218</td>\n",
       "      <td>VIEQUES</td>\n",
       "      <td>INTERMEDIO</td>\n",
       "      <td>HUMACAO</td>\n",
       "      <td>1</td>\n",
       "      <td>741-3091</td>\n",
       "      <td>URBANA</td>\n",
       "    </tr>\n",
       "    <tr>\n",
       "      <th>1</th>\n",
       "      <td>86.69</td>\n",
       "      <td>57323</td>\n",
       "      <td>PR</td>\n",
       "      <td>BO QUEBRADA CALLE 1 SECT CARACOLES</td>\n",
       "      <td>PENUELAS</td>\n",
       "      <td>00624-0000</td>\n",
       "      <td>GLORIA GARCIA</td>\n",
       "      <td>YAUCO</td>\n",
       "      <td>MIGUEL GONZALEZ BAUZA</td>\n",
       "      <td>15.03</td>\n",
       "      <td>...</td>\n",
       "      <td>17.65</td>\n",
       "      <td>16.99</td>\n",
       "      <td>29.41</td>\n",
       "      <td>280</td>\n",
       "      <td>PEÑUELAS</td>\n",
       "      <td>ELEMENTAL</td>\n",
       "      <td>PONCE</td>\n",
       "      <td>759</td>\n",
       "      <td>836-2597</td>\n",
       "      <td>RURAL</td>\n",
       "    </tr>\n",
       "    <tr>\n",
       "      <th>2</th>\n",
       "      <td>65.31</td>\n",
       "      <td>23218</td>\n",
       "      <td>PR</td>\n",
       "      <td>URB REPARTO MONTEBANCO CALLE D</td>\n",
       "      <td>CAYEY</td>\n",
       "      <td>00737-0000</td>\n",
       "      <td>WANDA I.CARTAGENA ORTIZ</td>\n",
       "      <td>CIDRA</td>\n",
       "      <td>MIGUEL MELENDEZ MUNOZ</td>\n",
       "      <td>32.84</td>\n",
       "      <td>...</td>\n",
       "      <td>10.45</td>\n",
       "      <td>21.89</td>\n",
       "      <td>50.25</td>\n",
       "      <td>278</td>\n",
       "      <td>CAYEY</td>\n",
       "      <td>ELEMENTAL</td>\n",
       "      <td>CAGUAS</td>\n",
       "      <td>760</td>\n",
       "      <td>738-2058</td>\n",
       "      <td>URBANA</td>\n",
       "    </tr>\n",
       "    <tr>\n",
       "      <th>3</th>\n",
       "      <td>65.71</td>\n",
       "      <td>23531</td>\n",
       "      <td>PR</td>\n",
       "      <td>AVE ANTONIO R BARCELO FRENTE CUC</td>\n",
       "      <td>CAYEY</td>\n",
       "      <td>00737-0000</td>\n",
       "      <td>PEDRO SANCHEZ</td>\n",
       "      <td>CIDRA</td>\n",
       "      <td>MIGUEL MELENDEZ MUNOZ</td>\n",
       "      <td>23.98</td>\n",
       "      <td>...</td>\n",
       "      <td>10.40</td>\n",
       "      <td>17.34</td>\n",
       "      <td>30.06</td>\n",
       "      <td>762</td>\n",
       "      <td>CAYEY</td>\n",
       "      <td>SUPERIOR</td>\n",
       "      <td>CAGUAS</td>\n",
       "      <td>761</td>\n",
       "      <td>738-3078</td>\n",
       "      <td>URBANA</td>\n",
       "    </tr>\n",
       "    <tr>\n",
       "      <th>4</th>\n",
       "      <td>63.10</td>\n",
       "      <td>70276</td>\n",
       "      <td>PR</td>\n",
       "      <td>CARR 840 KM 1 HM 1 SECTOR LA ALDEA</td>\n",
       "      <td>BAYAMON</td>\n",
       "      <td>00960-3169</td>\n",
       "      <td>MARIA JUDITH VAZQUEZ FONTANEZ</td>\n",
       "      <td>BAYAMON</td>\n",
       "      <td>MIGUEL MELENDEZ MUNOZ</td>\n",
       "      <td>44.59</td>\n",
       "      <td>...</td>\n",
       "      <td>19.59</td>\n",
       "      <td>16.89</td>\n",
       "      <td>35.14</td>\n",
       "      <td>577</td>\n",
       "      <td>BAYAMON II</td>\n",
       "      <td>SUPERIOR</td>\n",
       "      <td>BAYAMON</td>\n",
       "      <td>762</td>\n",
       "      <td>799-7300</td>\n",
       "      <td>RURAL</td>\n",
       "    </tr>\n",
       "  </tbody>\n",
       "</table>\n",
       "<p>5 rows × 37 columns</p>\n",
       "</div>"
      ],
      "text/plain": [
       "  bajo_nivel_pobreza codigo direccio_estado  \\\n",
       "0              86.24  35295              PR   \n",
       "1              86.69  57323              PR   \n",
       "2              65.31  23218              PR   \n",
       "3              65.71  23531              PR   \n",
       "4              63.10  70276              PR   \n",
       "\n",
       "                         direccio_fisica direccion_municipio  \\\n",
       "0  CARR ESTATAL 200 ESQ CARR ESTATAL 993             VIEQUES   \n",
       "1     BO QUEBRADA CALLE 1 SECT CARACOLES            PENUELAS   \n",
       "2         URB REPARTO MONTEBANCO CALLE D               CAYEY   \n",
       "3       AVE ANTONIO R BARCELO FRENTE CUC               CAYEY   \n",
       "4     CARR 840 KM 1 HM 1 SECTOR LA ALDEA             BAYAMON   \n",
       "\n",
       "  direccion_zipcode                       director distrito  \\\n",
       "0        00765-1554   MYRIAM R RODRIGUEZ RODRIGUEZ  FAJARDO   \n",
       "1        00624-0000                  GLORIA GARCIA    YAUCO   \n",
       "2        00737-0000        WANDA I.CARTAGENA ORTIZ    CIDRA   \n",
       "3        00737-0000                  PEDRO SANCHEZ    CIDRA   \n",
       "4        00960-3169  MARIA JUDITH VAZQUEZ FONTANEZ  BAYAMON   \n",
       "\n",
       "                    escuela español_avanzado   ...   matematicas_pre_basico  \\\n",
       "0  20 DE SEPTIEMBRE DE 1988             6.88   ...                    45.87   \n",
       "1     MIGUEL GONZALEZ BAUZA            15.03   ...                    17.65   \n",
       "2     MIGUEL MELENDEZ MUNOZ            32.84   ...                    10.45   \n",
       "3     MIGUEL MELENDEZ MUNOZ            23.98   ...                    10.40   \n",
       "4     MIGUEL MELENDEZ MUNOZ            44.59   ...                    19.59   \n",
       "\n",
       "  matematicas_proficiente matematicas_proficiente_avanzado matricula_total  \\\n",
       "0                    1.38                             1.38             218   \n",
       "1                   16.99                            29.41             280   \n",
       "2                   21.89                            50.25             278   \n",
       "3                   17.34                            30.06             762   \n",
       "4                   16.89                            35.14             577   \n",
       "\n",
       "  municipio_escolar nivel_original   region table_id  telefono    zona  \n",
       "0           VIEQUES     INTERMEDIO  HUMACAO        1  741-3091  URBANA  \n",
       "1          PEÑUELAS      ELEMENTAL    PONCE      759  836-2597   RURAL  \n",
       "2             CAYEY      ELEMENTAL   CAGUAS      760  738-2058  URBANA  \n",
       "3             CAYEY       SUPERIOR   CAGUAS      761  738-3078  URBANA  \n",
       "4        BAYAMON II       SUPERIOR  BAYAMON      762  799-7300   RURAL  \n",
       "\n",
       "[5 rows x 37 columns]"
      ]
     },
     "execution_count": 144,
     "metadata": {},
     "output_type": "execute_result"
    }
   ],
   "source": [
    "pd.read_sql_query('select * from tblMasterData LIMIT 5', con=engine)"
   ]
  },
  {
   "cell_type": "code",
   "execution_count": null,
   "metadata": {},
   "outputs": [],
   "source": []
  }
 ],
 "metadata": {
  "kernelspec": {
   "display_name": "Python 3",
   "language": "python",
   "name": "python3"
  },
  "language_info": {
   "codemirror_mode": {
    "name": "ipython",
    "version": 3
   },
   "file_extension": ".py",
   "mimetype": "text/x-python",
   "name": "python",
   "nbconvert_exporter": "python",
   "pygments_lexer": "ipython3",
   "version": "3.7.1"
  }
 },
 "nbformat": 4,
 "nbformat_minor": 2
}
